{
 "cells": [
  {
   "cell_type": "code",
   "execution_count": 1,
   "metadata": {},
   "outputs": [],
   "source": [
    "# Importing libraries\n",
    "import pandas as pd\n",
    "import numpy as np\n",
    "import scipy\n",
    "import seaborn as sns\n",
    "import matplotlib.pyplot as plt\n",
    "%matplotlib inline"
   ]
  },
  {
   "cell_type": "code",
   "execution_count": 2,
   "metadata": {},
   "outputs": [],
   "source": [
    "# import dataset\n",
    "data = pd.read_csv('Thesis_dataset.csv')"
   ]
  },
  {
   "cell_type": "code",
   "execution_count": 3,
   "metadata": {},
   "outputs": [
    {
     "data": {
      "text/html": [
       "<div>\n",
       "<style scoped>\n",
       "    .dataframe tbody tr th:only-of-type {\n",
       "        vertical-align: middle;\n",
       "    }\n",
       "\n",
       "    .dataframe tbody tr th {\n",
       "        vertical-align: top;\n",
       "    }\n",
       "\n",
       "    .dataframe thead th {\n",
       "        text-align: right;\n",
       "    }\n",
       "</style>\n",
       "<table border=\"1\" class=\"dataframe\">\n",
       "  <thead>\n",
       "    <tr style=\"text-align: right;\">\n",
       "      <th></th>\n",
       "      <th>ID</th>\n",
       "      <th>Name</th>\n",
       "      <th>Gender</th>\n",
       "      <th>Present Address</th>\n",
       "      <th>Using transportation</th>\n",
       "      <th>Apply for another varsity</th>\n",
       "      <th>Suppose admission</th>\n",
       "      <th>Waiver</th>\n",
       "      <th>KNPwCIfIbDA</th>\n",
       "      <th>If any, give reason</th>\n",
       "      <th>IUBAT Choosing Reason</th>\n",
       "    </tr>\n",
       "  </thead>\n",
       "  <tbody>\n",
       "    <tr>\n",
       "      <th>0</th>\n",
       "      <td>20103131</td>\n",
       "      <td>Tanvir Hossain</td>\n",
       "      <td>Male</td>\n",
       "      <td>Uttara, Dhaka</td>\n",
       "      <td>0</td>\n",
       "      <td>1</td>\n",
       "      <td>1</td>\n",
       "      <td>100</td>\n",
       "      <td>0</td>\n",
       "      <td>NaN</td>\n",
       "      <td>Well_developed</td>\n",
       "    </tr>\n",
       "    <tr>\n",
       "      <th>1</th>\n",
       "      <td>19303025</td>\n",
       "      <td>Abdullah Munim Khan</td>\n",
       "      <td>Male</td>\n",
       "      <td>Mirpur, Dhaka</td>\n",
       "      <td>1</td>\n",
       "      <td>1</td>\n",
       "      <td>0</td>\n",
       "      <td>15</td>\n",
       "      <td>0</td>\n",
       "      <td>NaN</td>\n",
       "      <td>Quality_education.</td>\n",
       "    </tr>\n",
       "    <tr>\n",
       "      <th>2</th>\n",
       "      <td>20103147</td>\n",
       "      <td>Md Azhar Uddin</td>\n",
       "      <td>Male</td>\n",
       "      <td>Narayanganj</td>\n",
       "      <td>0</td>\n",
       "      <td>0</td>\n",
       "      <td>1</td>\n",
       "      <td>15</td>\n",
       "      <td>1</td>\n",
       "      <td>pandemic</td>\n",
       "      <td>Teaching_quality</td>\n",
       "    </tr>\n",
       "    <tr>\n",
       "      <th>3</th>\n",
       "      <td>19103235</td>\n",
       "      <td>Farjana Pervin Ruma</td>\n",
       "      <td>Female</td>\n",
       "      <td>Gazipur</td>\n",
       "      <td>0</td>\n",
       "      <td>1</td>\n",
       "      <td>0</td>\n",
       "      <td>100</td>\n",
       "      <td>0</td>\n",
       "      <td>NaN</td>\n",
       "      <td>NaN</td>\n",
       "    </tr>\n",
       "    <tr>\n",
       "      <th>4</th>\n",
       "      <td>19203033</td>\n",
       "      <td>Shraboni Saha Puja</td>\n",
       "      <td>Female</td>\n",
       "      <td>Mirpur, Dhaka</td>\n",
       "      <td>0</td>\n",
       "      <td>1</td>\n",
       "      <td>0</td>\n",
       "      <td>30</td>\n",
       "      <td>0</td>\n",
       "      <td>NaN</td>\n",
       "      <td>Waiver</td>\n",
       "    </tr>\n",
       "  </tbody>\n",
       "</table>\n",
       "</div>"
      ],
      "text/plain": [
       "         ID                    Name  Gender Present Address  \\\n",
       "0  20103131         Tanvir Hossain     Male   Uttara, Dhaka   \n",
       "1  19303025  Abdullah Munim Khan       Male   Mirpur, Dhaka   \n",
       "2  20103147          Md Azhar Uddin    Male     Narayanganj   \n",
       "3  19103235  Farjana Pervin Ruma     Female         Gazipur   \n",
       "4  19203033      Shraboni Saha Puja  Female   Mirpur, Dhaka   \n",
       "\n",
       "   Using transportation  Apply for another varsity  Suppose admission  Waiver  \\\n",
       "0                     0                          1                  1     100   \n",
       "1                     1                          1                  0      15   \n",
       "2                     0                          0                  1      15   \n",
       "3                     0                          1                  0     100   \n",
       "4                     0                          1                  0      30   \n",
       "\n",
       "   KNPwCIfIbDA If any, give reason IUBAT Choosing Reason  \n",
       "0            0                 NaN        Well_developed  \n",
       "1            0                 NaN   Quality_education.   \n",
       "2            1            pandemic      Teaching_quality  \n",
       "3            0                 NaN                   NaN  \n",
       "4            0                 NaN                Waiver  "
      ]
     },
     "execution_count": 3,
     "metadata": {},
     "output_type": "execute_result"
    }
   ],
   "source": [
    "data.head()"
   ]
  },
  {
   "cell_type": "code",
   "execution_count": 4,
   "metadata": {},
   "outputs": [
    {
     "name": "stdout",
     "output_type": "stream",
     "text": [
      "<class 'pandas.core.frame.DataFrame'>\n",
      "RangeIndex: 405 entries, 0 to 404\n",
      "Data columns (total 11 columns):\n",
      " #   Column                     Non-Null Count  Dtype \n",
      "---  ------                     --------------  ----- \n",
      " 0   ID                         405 non-null    int64 \n",
      " 1   Name                       405 non-null    object\n",
      " 2   Gender                     405 non-null    object\n",
      " 3   Present Address            405 non-null    object\n",
      " 4   Using transportation       405 non-null    int64 \n",
      " 5   Apply for another varsity  405 non-null    int64 \n",
      " 6   Suppose admission          405 non-null    int64 \n",
      " 7   Waiver                     405 non-null    int64 \n",
      " 8   KNPwCIfIbDA                405 non-null    int64 \n",
      " 9   If any, give reason        139 non-null    object\n",
      " 10  IUBAT Choosing Reason      362 non-null    object\n",
      "dtypes: int64(6), object(5)\n",
      "memory usage: 34.9+ KB\n"
     ]
    }
   ],
   "source": [
    "data.info()"
   ]
  },
  {
   "cell_type": "code",
   "execution_count": 5,
   "metadata": {},
   "outputs": [
    {
     "data": {
      "text/html": [
       "<div>\n",
       "<style scoped>\n",
       "    .dataframe tbody tr th:only-of-type {\n",
       "        vertical-align: middle;\n",
       "    }\n",
       "\n",
       "    .dataframe tbody tr th {\n",
       "        vertical-align: top;\n",
       "    }\n",
       "\n",
       "    .dataframe thead th {\n",
       "        text-align: right;\n",
       "    }\n",
       "</style>\n",
       "<table border=\"1\" class=\"dataframe\">\n",
       "  <thead>\n",
       "    <tr style=\"text-align: right;\">\n",
       "      <th></th>\n",
       "      <th>ID</th>\n",
       "      <th>Using transportation</th>\n",
       "      <th>Apply for another varsity</th>\n",
       "      <th>Suppose admission</th>\n",
       "      <th>Waiver</th>\n",
       "      <th>KNPwCIfIbDA</th>\n",
       "    </tr>\n",
       "  </thead>\n",
       "  <tbody>\n",
       "    <tr>\n",
       "      <th>count</th>\n",
       "      <td>4.050000e+02</td>\n",
       "      <td>405.000000</td>\n",
       "      <td>405.000000</td>\n",
       "      <td>405.000000</td>\n",
       "      <td>405.000000</td>\n",
       "      <td>405.000000</td>\n",
       "    </tr>\n",
       "    <tr>\n",
       "      <th>mean</th>\n",
       "      <td>1.820530e+07</td>\n",
       "      <td>0.464198</td>\n",
       "      <td>0.696296</td>\n",
       "      <td>0.622222</td>\n",
       "      <td>41.125926</td>\n",
       "      <td>0.412346</td>\n",
       "    </tr>\n",
       "    <tr>\n",
       "      <th>std</th>\n",
       "      <td>1.761185e+06</td>\n",
       "      <td>0.499333</td>\n",
       "      <td>0.460425</td>\n",
       "      <td>0.485431</td>\n",
       "      <td>33.251315</td>\n",
       "      <td>0.492866</td>\n",
       "    </tr>\n",
       "    <tr>\n",
       "      <th>min</th>\n",
       "      <td>2.010320e+06</td>\n",
       "      <td>0.000000</td>\n",
       "      <td>0.000000</td>\n",
       "      <td>0.000000</td>\n",
       "      <td>0.000000</td>\n",
       "      <td>0.000000</td>\n",
       "    </tr>\n",
       "    <tr>\n",
       "      <th>25%</th>\n",
       "      <td>1.720306e+07</td>\n",
       "      <td>0.000000</td>\n",
       "      <td>0.000000</td>\n",
       "      <td>0.000000</td>\n",
       "      <td>15.000000</td>\n",
       "      <td>0.000000</td>\n",
       "    </tr>\n",
       "    <tr>\n",
       "      <th>50%</th>\n",
       "      <td>1.820308e+07</td>\n",
       "      <td>0.000000</td>\n",
       "      <td>1.000000</td>\n",
       "      <td>1.000000</td>\n",
       "      <td>30.000000</td>\n",
       "      <td>0.000000</td>\n",
       "    </tr>\n",
       "    <tr>\n",
       "      <th>75%</th>\n",
       "      <td>1.910323e+07</td>\n",
       "      <td>1.000000</td>\n",
       "      <td>1.000000</td>\n",
       "      <td>1.000000</td>\n",
       "      <td>60.000000</td>\n",
       "      <td>1.000000</td>\n",
       "    </tr>\n",
       "    <tr>\n",
       "      <th>max</th>\n",
       "      <td>2.020306e+07</td>\n",
       "      <td>1.000000</td>\n",
       "      <td>1.000000</td>\n",
       "      <td>1.000000</td>\n",
       "      <td>100.000000</td>\n",
       "      <td>1.000000</td>\n",
       "    </tr>\n",
       "  </tbody>\n",
       "</table>\n",
       "</div>"
      ],
      "text/plain": [
       "                 ID  Using transportation  Apply for another varsity  \\\n",
       "count  4.050000e+02            405.000000                 405.000000   \n",
       "mean   1.820530e+07              0.464198                   0.696296   \n",
       "std    1.761185e+06              0.499333                   0.460425   \n",
       "min    2.010320e+06              0.000000                   0.000000   \n",
       "25%    1.720306e+07              0.000000                   0.000000   \n",
       "50%    1.820308e+07              0.000000                   1.000000   \n",
       "75%    1.910323e+07              1.000000                   1.000000   \n",
       "max    2.020306e+07              1.000000                   1.000000   \n",
       "\n",
       "       Suppose admission      Waiver  KNPwCIfIbDA  \n",
       "count         405.000000  405.000000   405.000000  \n",
       "mean            0.622222   41.125926     0.412346  \n",
       "std             0.485431   33.251315     0.492866  \n",
       "min             0.000000    0.000000     0.000000  \n",
       "25%             0.000000   15.000000     0.000000  \n",
       "50%             1.000000   30.000000     0.000000  \n",
       "75%             1.000000   60.000000     1.000000  \n",
       "max             1.000000  100.000000     1.000000  "
      ]
     },
     "execution_count": 5,
     "metadata": {},
     "output_type": "execute_result"
    }
   ],
   "source": [
    "data.describe()"
   ]
  },
  {
   "cell_type": "code",
   "execution_count": 6,
   "metadata": {},
   "outputs": [
    {
     "data": {
      "text/plain": [
       "(405, 11)"
      ]
     },
     "execution_count": 6,
     "metadata": {},
     "output_type": "execute_result"
    }
   ],
   "source": [
    "data.shape"
   ]
  },
  {
   "cell_type": "code",
   "execution_count": 7,
   "metadata": {},
   "outputs": [
    {
     "data": {
      "text/plain": [
       "ID                             0\n",
       "Name                           0\n",
       "Gender                         0\n",
       "Present Address                0\n",
       "Using transportation           0\n",
       "Apply for another varsity      0\n",
       "Suppose admission              0\n",
       "Waiver                         0\n",
       "KNPwCIfIbDA                    0\n",
       "If any, give reason          266\n",
       "IUBAT Choosing Reason         43\n",
       "dtype: int64"
      ]
     },
     "execution_count": 7,
     "metadata": {},
     "output_type": "execute_result"
    }
   ],
   "source": [
    "# See the null values\n",
    "data.isnull().sum()"
   ]
  },
  {
   "cell_type": "code",
   "execution_count": 8,
   "metadata": {},
   "outputs": [
    {
     "data": {
      "text/plain": [
       "<matplotlib.axes._subplots.AxesSubplot at 0x7ffb61b168d0>"
      ]
     },
     "execution_count": 8,
     "metadata": {},
     "output_type": "execute_result"
    },
    {
     "data": {
      "image/png": "[encoded data removed]",
      "text/plain": [
       "<Figure size 432x288 with 2 Axes>"
      ]
     },
     "metadata": {
      "needs_background": "light"
     },
     "output_type": "display_data"
    }
   ],
   "source": [
    "# show the null values\n",
    "sns.heatmap(data.isnull())"
   ]
  },
  {
   "cell_type": "code",
   "execution_count": 9,
   "metadata": {},
   "outputs": [
    {
     "data": {
      "text/plain": [
       "(array([153.,   0.,   0.,   0.,   0.,   0.,   0.,   0.,   0., 252.]),\n",
       " array([0. , 0.1, 0.2, 0.3, 0.4, 0.5, 0.6, 0.7, 0.8, 0.9, 1. ]),\n",
       " <a list of 10 Patch objects>)"
      ]
     },
     "execution_count": 9,
     "metadata": {},
     "output_type": "execute_result"
    },
    {
     "data": {
      "image/png": "[encoded data removed]",
      "text/plain": [
       "<Figure size 432x288 with 1 Axes>"
      ]
     },
     "metadata": {
      "needs_background": "light"
     },
     "output_type": "display_data"
    }
   ],
   "source": [
    "#Ploting y value\n",
    "plt.hist(data['Suppose admission'])"
   ]
  },
  {
   "cell_type": "code",
   "execution_count": 10,
   "metadata": {},
   "outputs": [],
   "source": [
    "def bar_chart(feature):\n",
    "    admitted = data[data['Suppose admission']==1][feature].value_counts()\n",
    "    not_admitted = data[data['Suppose admission']==0][feature].value_counts()\n",
    "    df = pd.DataFrame([admitted,not_admitted])\n",
    "    df.index = ['admitted','not_admitted']\n",
    "    df.plot(kind='bar',stacked=True,figsize=(10,5))"
   ]
  },
  {
   "cell_type": "markdown",
   "metadata": {},
   "source": [
    "# Gender"
   ]
  },
  {
   "cell_type": "code",
   "execution_count": 11,
   "metadata": {},
   "outputs": [
    {
     "data": {
      "image/png": "[encoded data removed]",
      "text/plain": [
       "<Figure size 720x360 with 1 Axes>"
      ]
     },
     "metadata": {
      "needs_background": "light"
     },
     "output_type": "display_data"
    }
   ],
   "source": [
    "bar_chart('Gender')"
   ]
  },
  {
   "cell_type": "code",
   "execution_count": 12,
   "metadata": {},
   "outputs": [],
   "source": [
    "data['Gender'].replace('male', 'Male', inplace=True)"
   ]
  },
  {
   "cell_type": "code",
   "execution_count": 13,
   "metadata": {},
   "outputs": [
    {
     "data": {
      "text/plain": [
       "Male      240\n",
       "Female    165\n",
       "Name: Gender, dtype: int64"
      ]
     },
     "execution_count": 13,
     "metadata": {},
     "output_type": "execute_result"
    }
   ],
   "source": [
    "pd.value_counts(data['Gender'])"
   ]
  },
  {
   "cell_type": "code",
   "execution_count": 14,
   "metadata": {},
   "outputs": [
    {
     "data": {
      "image/png": "[encoded data removed]",
      "text/plain": [
       "<Figure size 720x360 with 1 Axes>"
      ]
     },
     "metadata": {
      "needs_background": "light"
     },
     "output_type": "display_data"
    }
   ],
   "source": [
    "bar_chart('Gender')"
   ]
  },
  {
   "cell_type": "markdown",
   "metadata": {},
   "source": [
    "# Present Address"
   ]
  },
  {
   "cell_type": "code",
   "execution_count": 15,
   "metadata": {},
   "outputs": [
    {
     "data": {
      "image/png": "[encoded data removed]",
      "text/plain": [
       "<Figure size 720x360 with 1 Axes>"
      ]
     },
     "metadata": {
      "needs_background": "light"
     },
     "output_type": "display_data"
    }
   ],
   "source": [
    "bar_chart('Present Address')"
   ]
  },
  {
   "cell_type": "code",
   "execution_count": 16,
   "metadata": {},
   "outputs": [
    {
     "data": {
      "text/plain": [
       "Uttara, Dhaka                125\n",
       "Gazipur                       59\n",
       "Narayanganj                   42\n",
       "Savar, Dhaka                  21\n",
       "Dakkhinkhan, Dhaka            17\n",
       "Gazipur                       17\n",
       "Cantonment, Dhaka             16\n",
       "Dhanmondi 27, Dhaka           15\n",
       "Mirpur-14, Dhaka              15\n",
       "Shabag, Dhaka                 15\n",
       "Gazipur                       14\n",
       "Uttarkhan, Dhaka               8\n",
       "Mirpur, Dhaka                  8\n",
       "Naraynganj                     7\n",
       "Airport,  Dhaka                5\n",
       "Bosundhara, Dhaka              5\n",
       "Kawla, Uttara, Dhaka           3\n",
       "Turag, Dhaka                   2\n",
       "Mirpur-2, Dhaka                2\n",
       "Gulistan, Dhaka                1\n",
       "Tongi, Gazipur                 1\n",
       "Bangshal, Dhaka                1\n",
       "Khilkhet, Dhaka                1\n",
       "Kuril,Dhaka                    1\n",
       "Uttar Khan, Dhaka              1\n",
       "Dhaka                          1\n",
       "Mirpur-13, Dhaka               1\n",
       "Sector-10 , uttara, Dhaka      1\n",
       "Name: Present Address, dtype: int64"
      ]
     },
     "execution_count": 16,
     "metadata": {},
     "output_type": "execute_result"
    }
   ],
   "source": [
    "pd.value_counts(data['Present Address'])"
   ]
  },
  {
   "cell_type": "code",
   "execution_count": 17,
   "metadata": {},
   "outputs": [],
   "source": [
    "data.replace('Sector-10 , uttara, Dhaka', 'Uttara, Dhaka', inplace=True)"
   ]
  },
  {
   "cell_type": "code",
   "execution_count": 18,
   "metadata": {},
   "outputs": [],
   "source": [
    "data.replace('Uttar Khan, Dhaka', 'Uttarkhan, Dhaka ', inplace=True)"
   ]
  },
  {
   "cell_type": "code",
   "execution_count": 19,
   "metadata": {},
   "outputs": [],
   "source": [
    "data.replace('Uttarkhan, Dhaka ', 'Uttarkhan, Dhaka', inplace=True)"
   ]
  },
  {
   "cell_type": "code",
   "execution_count": 20,
   "metadata": {},
   "outputs": [],
   "source": [
    "data.replace('Gazipur ', 'Gazipur', inplace=True)"
   ]
  },
  {
   "cell_type": "code",
   "execution_count": 21,
   "metadata": {},
   "outputs": [],
   "source": [
    "data.replace('Gazipur  ', 'Gazipur', inplace=True)"
   ]
  },
  {
   "cell_type": "code",
   "execution_count": 22,
   "metadata": {},
   "outputs": [
    {
     "data": {
      "text/plain": [
       "Uttara, Dhaka           126\n",
       "Gazipur                  90\n",
       "Narayanganj              42\n",
       "Savar, Dhaka             21\n",
       "Dakkhinkhan, Dhaka       17\n",
       "Cantonment, Dhaka        16\n",
       "Dhanmondi 27, Dhaka      15\n",
       "Shabag, Dhaka            15\n",
       "Mirpur-14, Dhaka         15\n",
       "Uttarkhan, Dhaka          9\n",
       "Mirpur, Dhaka             8\n",
       "Naraynganj                7\n",
       "Airport,  Dhaka           5\n",
       "Bosundhara, Dhaka         5\n",
       "Kawla, Uttara, Dhaka      3\n",
       "Mirpur-2, Dhaka           2\n",
       "Turag, Dhaka              2\n",
       "Kuril,Dhaka               1\n",
       "Dhaka                     1\n",
       "Tongi, Gazipur            1\n",
       "Gulistan, Dhaka           1\n",
       "Bangshal, Dhaka           1\n",
       "Khilkhet, Dhaka           1\n",
       "Mirpur-13, Dhaka          1\n",
       "Name: Present Address, dtype: int64"
      ]
     },
     "execution_count": 22,
     "metadata": {},
     "output_type": "execute_result"
    }
   ],
   "source": [
    "pd.value_counts(data['Present Address'])"
   ]
  },
  {
   "cell_type": "code",
   "execution_count": 23,
   "metadata": {},
   "outputs": [
    {
     "data": {
      "image/png": "[encoded data removed]",
      "text/plain": [
       "<Figure size 720x360 with 1 Axes>"
      ]
     },
     "metadata": {
      "needs_background": "light"
     },
     "output_type": "display_data"
    }
   ],
   "source": [
    "bar_chart('Present Address')"
   ]
  },
  {
   "cell_type": "markdown",
   "metadata": {},
   "source": [
    "# Using transportation"
   ]
  },
  {
   "cell_type": "code",
   "execution_count": 24,
   "metadata": {},
   "outputs": [
    {
     "data": {
      "image/png": "[encoded data removed]",
      "text/plain": [
       "<Figure size 720x360 with 1 Axes>"
      ]
     },
     "metadata": {
      "needs_background": "light"
     },
     "output_type": "display_data"
    }
   ],
   "source": [
    "bar_chart('Using transportation')"
   ]
  },
  {
   "cell_type": "markdown",
   "metadata": {},
   "source": [
    "#  Apply for another varsity"
   ]
  },
  {
   "cell_type": "code",
   "execution_count": 25,
   "metadata": {},
   "outputs": [
    {
     "data": {
      "image/png": "[encoded data removed]",
      "text/plain": [
       "<Figure size 720x360 with 1 Axes>"
      ]
     },
     "metadata": {
      "needs_background": "light"
     },
     "output_type": "display_data"
    }
   ],
   "source": [
    "bar_chart('Apply for another varsity')"
   ]
  },
  {
   "cell_type": "markdown",
   "metadata": {},
   "source": [
    "# Waiver"
   ]
  },
  {
   "cell_type": "code",
   "execution_count": 26,
   "metadata": {},
   "outputs": [
    {
     "data": {
      "image/png": "[encoded data removed]",
      "text/plain": [
       "<Figure size 720x360 with 1 Axes>"
      ]
     },
     "metadata": {
      "needs_background": "light"
     },
     "output_type": "display_data"
    }
   ],
   "source": [
    "bar_chart('Waiver')"
   ]
  },
  {
   "cell_type": "code",
   "execution_count": 27,
   "metadata": {},
   "outputs": [
    {
     "data": {
      "text/plain": [
       "100    78\n",
       "15     58\n",
       "10     43\n",
       "30     35\n",
       "20     35\n",
       "40     34\n",
       "0      27\n",
       "50     26\n",
       "25     21\n",
       "35     12\n",
       "60     11\n",
       "65      9\n",
       "45      5\n",
       "80      4\n",
       "70      4\n",
       "55      1\n",
       "75      1\n",
       "1       1\n",
       "Name: Waiver, dtype: int64"
      ]
     },
     "execution_count": 27,
     "metadata": {},
     "output_type": "execute_result"
    }
   ],
   "source": [
    "pd.value_counts(data['Waiver'])"
   ]
  },
  {
   "cell_type": "code",
   "execution_count": 28,
   "metadata": {},
   "outputs": [],
   "source": [
    "# here 1 is outlire because there is no 1% waiver in iubat so we will replace into mode of the column\n",
    "data['Waiver'].replace(1, data['Waiver'].median() , inplace=True)"
   ]
  },
  {
   "cell_type": "code",
   "execution_count": 29,
   "metadata": {},
   "outputs": [
    {
     "data": {
      "text/plain": [
       "100    78\n",
       "15     58\n",
       "10     43\n",
       "30     36\n",
       "20     35\n",
       "40     34\n",
       "0      27\n",
       "50     26\n",
       "25     21\n",
       "35     12\n",
       "60     11\n",
       "65      9\n",
       "45      5\n",
       "80      4\n",
       "70      4\n",
       "55      1\n",
       "75      1\n",
       "Name: Waiver, dtype: int64"
      ]
     },
     "execution_count": 29,
     "metadata": {},
     "output_type": "execute_result"
    }
   ],
   "source": [
    "pd.value_counts(data['Waiver'])"
   ]
  },
  {
   "cell_type": "code",
   "execution_count": 30,
   "metadata": {},
   "outputs": [
    {
     "data": {
      "image/png": "[encoded data removed]",
      "text/plain": [
       "<Figure size 720x360 with 1 Axes>"
      ]
     },
     "metadata": {
      "needs_background": "light"
     },
     "output_type": "display_data"
    }
   ],
   "source": [
    "bar_chart('Waiver')"
   ]
  },
  {
   "cell_type": "markdown",
   "metadata": {},
   "source": [
    "# KNPwCIfIbDA (Known person who come to know the information but did not admit"
   ]
  },
  {
   "cell_type": "code",
   "execution_count": 31,
   "metadata": {},
   "outputs": [
    {
     "data": {
      "image/png": "[encoded data removed]",
      "text/plain": [
       "<Figure size 720x360 with 1 Axes>"
      ]
     },
     "metadata": {
      "needs_background": "light"
     },
     "output_type": "display_data"
    }
   ],
   "source": [
    "bar_chart('KNPwCIfIbDA')"
   ]
  },
  {
   "cell_type": "code",
   "execution_count": 32,
   "metadata": {},
   "outputs": [
    {
     "data": {
      "text/plain": [
       "0    238\n",
       "1    167\n",
       "Name: KNPwCIfIbDA, dtype: int64"
      ]
     },
     "execution_count": 32,
     "metadata": {},
     "output_type": "execute_result"
    }
   ],
   "source": [
    "pd.value_counts(data['KNPwCIfIbDA'])"
   ]
  },
  {
   "cell_type": "markdown",
   "metadata": {},
   "source": [
    "# If any, give reason"
   ]
  },
  {
   "cell_type": "code",
   "execution_count": 33,
   "metadata": {},
   "outputs": [
    {
     "data": {
      "text/html": [
       "<div>\n",
       "<style scoped>\n",
       "    .dataframe tbody tr th:only-of-type {\n",
       "        vertical-align: middle;\n",
       "    }\n",
       "\n",
       "    .dataframe tbody tr th {\n",
       "        vertical-align: top;\n",
       "    }\n",
       "\n",
       "    .dataframe thead th {\n",
       "        text-align: right;\n",
       "    }\n",
       "</style>\n",
       "<table border=\"1\" class=\"dataframe\">\n",
       "  <thead>\n",
       "    <tr style=\"text-align: right;\">\n",
       "      <th></th>\n",
       "      <th>ID</th>\n",
       "      <th>Name</th>\n",
       "      <th>Gender</th>\n",
       "      <th>Present Address</th>\n",
       "      <th>Using transportation</th>\n",
       "      <th>Apply for another varsity</th>\n",
       "      <th>Suppose admission</th>\n",
       "      <th>Waiver</th>\n",
       "      <th>KNPwCIfIbDA</th>\n",
       "      <th>If any, give reason</th>\n",
       "      <th>IUBAT Choosing Reason</th>\n",
       "    </tr>\n",
       "  </thead>\n",
       "  <tbody>\n",
       "    <tr>\n",
       "      <th>0</th>\n",
       "      <td>20103131</td>\n",
       "      <td>Tanvir Hossain</td>\n",
       "      <td>Male</td>\n",
       "      <td>Uttara, Dhaka</td>\n",
       "      <td>0</td>\n",
       "      <td>1</td>\n",
       "      <td>1</td>\n",
       "      <td>100</td>\n",
       "      <td>0</td>\n",
       "      <td>NaN</td>\n",
       "      <td>Well_developed</td>\n",
       "    </tr>\n",
       "    <tr>\n",
       "      <th>1</th>\n",
       "      <td>19303025</td>\n",
       "      <td>Abdullah Munim Khan</td>\n",
       "      <td>Male</td>\n",
       "      <td>Mirpur, Dhaka</td>\n",
       "      <td>1</td>\n",
       "      <td>1</td>\n",
       "      <td>0</td>\n",
       "      <td>15</td>\n",
       "      <td>0</td>\n",
       "      <td>NaN</td>\n",
       "      <td>Quality_education.</td>\n",
       "    </tr>\n",
       "    <tr>\n",
       "      <th>2</th>\n",
       "      <td>20103147</td>\n",
       "      <td>Md Azhar Uddin</td>\n",
       "      <td>Male</td>\n",
       "      <td>Narayanganj</td>\n",
       "      <td>0</td>\n",
       "      <td>0</td>\n",
       "      <td>1</td>\n",
       "      <td>15</td>\n",
       "      <td>1</td>\n",
       "      <td>pandemic</td>\n",
       "      <td>Teaching_quality</td>\n",
       "    </tr>\n",
       "    <tr>\n",
       "      <th>3</th>\n",
       "      <td>19103235</td>\n",
       "      <td>Farjana Pervin Ruma</td>\n",
       "      <td>Female</td>\n",
       "      <td>Gazipur</td>\n",
       "      <td>0</td>\n",
       "      <td>1</td>\n",
       "      <td>0</td>\n",
       "      <td>100</td>\n",
       "      <td>0</td>\n",
       "      <td>NaN</td>\n",
       "      <td>NaN</td>\n",
       "    </tr>\n",
       "    <tr>\n",
       "      <th>4</th>\n",
       "      <td>19203033</td>\n",
       "      <td>Shraboni Saha Puja</td>\n",
       "      <td>Female</td>\n",
       "      <td>Mirpur, Dhaka</td>\n",
       "      <td>0</td>\n",
       "      <td>1</td>\n",
       "      <td>0</td>\n",
       "      <td>30</td>\n",
       "      <td>0</td>\n",
       "      <td>NaN</td>\n",
       "      <td>Waiver</td>\n",
       "    </tr>\n",
       "  </tbody>\n",
       "</table>\n",
       "</div>"
      ],
      "text/plain": [
       "         ID                    Name  Gender Present Address  \\\n",
       "0  20103131         Tanvir Hossain     Male   Uttara, Dhaka   \n",
       "1  19303025  Abdullah Munim Khan       Male   Mirpur, Dhaka   \n",
       "2  20103147          Md Azhar Uddin    Male     Narayanganj   \n",
       "3  19103235  Farjana Pervin Ruma     Female         Gazipur   \n",
       "4  19203033      Shraboni Saha Puja  Female   Mirpur, Dhaka   \n",
       "\n",
       "   Using transportation  Apply for another varsity  Suppose admission  Waiver  \\\n",
       "0                     0                          1                  1     100   \n",
       "1                     1                          1                  0      15   \n",
       "2                     0                          0                  1      15   \n",
       "3                     0                          1                  0     100   \n",
       "4                     0                          1                  0      30   \n",
       "\n",
       "   KNPwCIfIbDA If any, give reason IUBAT Choosing Reason  \n",
       "0            0                 NaN        Well_developed  \n",
       "1            0                 NaN   Quality_education.   \n",
       "2            1            pandemic      Teaching_quality  \n",
       "3            0                 NaN                   NaN  \n",
       "4            0                 NaN                Waiver  "
      ]
     },
     "execution_count": 33,
     "metadata": {},
     "output_type": "execute_result"
    }
   ],
   "source": [
    "data.head()"
   ]
  },
  {
   "cell_type": "code",
   "execution_count": 34,
   "metadata": {},
   "outputs": [
    {
     "data": {
      "text/plain": [
       "Admitted_another_private_varsity    28\n",
       "Finance                             18\n",
       "Got_chance_in_public_varsity        18\n",
       "Pressure                            14\n",
       "Dress_code                           7\n",
       "Money                                7\n",
       "Family_problem                       6\n",
       "Went_abroad                          6\n",
       "Pandemic                             4\n",
       "Dress_code                           3\n",
       "Low_gpa_in_hsc                       3\n",
       "Quality                              3\n",
       "Requirements_not_matched             3\n",
       "Distance                             2\n",
       "Drop_semster                         2\n",
       "Personal_reason                      2\n",
       "pandemic                             2\n",
       "Transport                            2\n",
       "No_English_Department.               1\n",
       "Transportation                       1\n",
       "Education_system                     1\n",
       "Maintanance_of_cgpa                  1\n",
       "Admitted_IUBAT                       1\n",
       "Rules                                1\n",
       "Tuition_fees                         1\n",
       "English                              1\n",
       "Grading_system                       1\n",
       "Name: If any, give reason, dtype: int64"
      ]
     },
     "execution_count": 34,
     "metadata": {},
     "output_type": "execute_result"
    }
   ],
   "source": [
    "pd.value_counts(data['If any, give reason'])"
   ]
  },
  {
   "cell_type": "code",
   "execution_count": 35,
   "metadata": {},
   "outputs": [],
   "source": [
    "data.replace('Transport  ', 'Transportation', inplace=True)"
   ]
  },
  {
   "cell_type": "code",
   "execution_count": 36,
   "metadata": {},
   "outputs": [],
   "source": [
    "data.replace('Transport ', 'Transportation', inplace=True)\n",
    "data.replace('Transport', 'Transportation', inplace=True)"
   ]
  },
  {
   "cell_type": "code",
   "execution_count": 37,
   "metadata": {},
   "outputs": [],
   "source": [
    "data.replace('Transportation ', 'Transportation', inplace=True)\n",
    "data.replace('Transportation  ', 'Transportation', inplace=True)"
   ]
  },
  {
   "cell_type": "code",
   "execution_count": 38,
   "metadata": {},
   "outputs": [],
   "source": [
    "data.replace('Dress_code ', 'Dress_code', inplace=True)"
   ]
  },
  {
   "cell_type": "code",
   "execution_count": 39,
   "metadata": {},
   "outputs": [],
   "source": [
    "data.replace('No_English_Department. ', 'No_Engilish_Department', inplace=True)"
   ]
  },
  {
   "cell_type": "code",
   "execution_count": 40,
   "metadata": {},
   "outputs": [],
   "source": [
    "data['If any, give reason'].replace(1, data['If any, give reason'].mode() , inplace=True)"
   ]
  },
  {
   "cell_type": "code",
   "execution_count": 41,
   "metadata": {},
   "outputs": [
    {
     "data": {
      "text/plain": [
       "Admitted_another_private_varsity    28\n",
       "Finance                             18\n",
       "Got_chance_in_public_varsity        18\n",
       "Pressure                            14\n",
       "Dress_code                          10\n",
       "Money                                7\n",
       "Family_problem                       6\n",
       "Went_abroad                          6\n",
       "Pandemic                             4\n",
       "Requirements_not_matched             3\n",
       "Quality                              3\n",
       "Low_gpa_in_hsc                       3\n",
       "Transportation                       3\n",
       "Drop_semster                         2\n",
       "Distance                             2\n",
       "pandemic                             2\n",
       "Personal_reason                      2\n",
       "Admitted_IUBAT                       1\n",
       "Tuition_fees                         1\n",
       "English                              1\n",
       "Maintanance_of_cgpa                  1\n",
       "Education_system                     1\n",
       "Rules                                1\n",
       "Grading_system                       1\n",
       "No_Engilish_Department               1\n",
       "Name: If any, give reason, dtype: int64"
      ]
     },
     "execution_count": 41,
     "metadata": {},
     "output_type": "execute_result"
    }
   ],
   "source": [
    "pd.value_counts(data['If any, give reason'])"
   ]
  },
  {
   "cell_type": "code",
   "execution_count": 42,
   "metadata": {},
   "outputs": [
    {
     "data": {
      "image/png": "[encoded data removed]",
      "text/plain": [
       "<Figure size 720x360 with 1 Axes>"
      ]
     },
     "metadata": {
      "needs_background": "light"
     },
     "output_type": "display_data"
    }
   ],
   "source": [
    "bar_chart('If any, give reason')"
   ]
  },
  {
   "cell_type": "markdown",
   "metadata": {},
   "source": [
    "# IUBAT Choosing Reason"
   ]
  },
  {
   "cell_type": "code",
   "execution_count": 43,
   "metadata": {
    "scrolled": true
   },
   "outputs": [
    {
     "data": {
      "text/plain": [
       "Waiver                       47\n",
       "Beautiful_campus             37\n",
       "Suggestion                   25\n",
       "Gurdian's_choice             25\n",
       "Transportation               22\n",
       "100_waiver                   17\n",
       "Loan_system                  16\n",
       "Environment                  13\n",
       "Near                         10\n",
       "For_mechanical_dept.         10\n",
       "IEB_membership               10\n",
       "Quality_education.            9\n",
       "Learning_environment          7\n",
       "Good_for_diploma_holders      6\n",
       "Education_system              5\n",
       "Well_developed                5\n",
       "Teaching_quality              4\n",
       "Gurdian's choice              4\n",
       "For_Agriculture_dept          3\n",
       "Transportation facility       3\n",
       "Educational_background        3\n",
       "Favourite_University          3\n",
       "No option without IUBAT       3\n",
       "Beautiful_campus.             3\n",
       "Beautiful_campus              3\n",
       "Finance                       2\n",
       "Best_option                   2\n",
       "100_waiver.                   2\n",
       "Learning_environment          2\n",
       " Waiver                       2\n",
       "Environment                   2\n",
       "No reason                     2\n",
       "Transporation                 2\n",
       "Wavier                        2\n",
       "No_option                     2\n",
       "Standard_university           2\n",
       "father's choice               2\n",
       "Environment                   2\n",
       "In nearest location           2\n",
       "Many_facilities               2\n",
       "Frined's suggestion           2\n",
       "Rules                         2\n",
       "Green campus                  2\n",
       "near at my house              1\n",
       "Many_facility                 1\n",
       "First_private_vniversity      1\n",
       "Father's choice               1\n",
       "good for diploma engineer     1\n",
       "Waiver                        1\n",
       "No option without it          1\n",
       "Friend's suggestion           1\n",
       "waiver                        1\n",
       "Cousin's suggestion           1\n",
       "Reasonable_tiutuon_fee.       1\n",
       "Loan facility                 1\n",
       "Learning environment          1\n",
       "Wavier                        1\n",
       "Transporation                 1\n",
       "Environment.                  1\n",
       "don't know                    1\n",
       "eductaional background        1\n",
       "Rules and regulation          1\n",
       "For campus                    1\n",
       "Teacinga_quality              1\n",
       "For the campus                1\n",
       "Scholarship                   1\n",
       "Weaver                        1\n",
       "                              1\n",
       "Best for deploma student      1\n",
       "100 waiver                    1\n",
       "Well)_reputed_University      1\n",
       "Scholarhip                    1\n",
       "Best_university               1\n",
       "loan opportunity              1\n",
       "Teacing quality               1\n",
       "I don't know                  1\n",
       "Name: IUBAT Choosing Reason, dtype: int64"
      ]
     },
     "execution_count": 43,
     "metadata": {},
     "output_type": "execute_result"
    }
   ],
   "source": [
    "pd.set_option('display.max_rows', 500)\n",
    "pd.value_counts(data['IUBAT Choosing Reason'])"
   ]
  },
  {
   "cell_type": "code",
   "execution_count": 44,
   "metadata": {},
   "outputs": [],
   "source": [
    "data.replace(['Weaver',' ','waiver','Waiver ','Wavier ',' Waiver', 'Wavier','100_waiver', '100_waiver.',\n",
    "              '100 waiver','Scholarship'], 'Waiver', inplace=True)"
   ]
  },
  {
   "cell_type": "code",
   "execution_count": 45,
   "metadata": {},
   "outputs": [],
   "source": [
    "data.replace(['Environment','Environment. ','Environment ','Environment   ','Beautiful_campus  ',\n",
    "              'Learning_environment','Learning environment','Learning_environment   ',\n",
    "              'Beautiful_campus.  ','Green campus  ',\n",
    "              'For campus','For the campus'],'Beautiful_campus', inplace=True)"
   ]
  },
  {
   "cell_type": "code",
   "execution_count": 46,
   "metadata": {},
   "outputs": [],
   "source": [
    "data.replace([\"Friend's suggestion\",\"Cousin's suggestion\",\"Frined's suggestion\"],'Suggestion', inplace=True)"
   ]
  },
  {
   "cell_type": "code",
   "execution_count": 47,
   "metadata": {},
   "outputs": [],
   "source": [
    "data.replace([\"Gurdian's choice\",\"father's choice\",\"Father's choice\"],\"Gurdian's_choice\", inplace=True)"
   ]
  },
  {
   "cell_type": "code",
   "execution_count": 48,
   "metadata": {},
   "outputs": [],
   "source": [
    "data.replace(['Transportation ','Transporation','Transporation ','Transportation facility'],\n",
    "             'Transportation',inplace=True)"
   ]
  },
  {
   "cell_type": "code",
   "execution_count": 49,
   "metadata": {},
   "outputs": [],
   "source": [
    "data.replace(['loan opportunity','Loan facility'],'Loan_system',inplace=True)"
   ]
  },
  {
   "cell_type": "code",
   "execution_count": 50,
   "metadata": {},
   "outputs": [],
   "source": [
    "data.replace(['In nearest location','near at my house'],'Near',inplace=True)"
   ]
  },
  {
   "cell_type": "code",
   "execution_count": 51,
   "metadata": {},
   "outputs": [],
   "source": [
    "data.replace(['For_mechanical_dept. '],'For_mechanical_department', inplace=True)"
   ]
  },
  {
   "cell_type": "code",
   "execution_count": 52,
   "metadata": {},
   "outputs": [],
   "source": [
    "data.replace(['Quality_education. ','Education_system'],'Quality_education',inplace=True)"
   ]
  },
  {
   "cell_type": "code",
   "execution_count": 53,
   "metadata": {},
   "outputs": [],
   "source": [
    "data.replace(['Best for deploma student','good for diploma engineer'],'Good_for_diploma_holders',inplace=True)"
   ]
  },
  {
   "cell_type": "code",
   "execution_count": 54,
   "metadata": {},
   "outputs": [],
   "source": [
    "data.replace(['Teacinga_quality','Teacing quality'],'Teaching_quality',inplace=True)"
   ]
  },
  {
   "cell_type": "code",
   "execution_count": 55,
   "metadata": {},
   "outputs": [],
   "source": [
    "data.replace('eductaional background','Educational_background',inplace=True)"
   ]
  },
  {
   "cell_type": "code",
   "execution_count": 56,
   "metadata": {},
   "outputs": [],
   "source": [
    "data.replace(['No option without IUBAT','No_option'],'No option without it',inplace=True)"
   ]
  },
  {
   "cell_type": "code",
   "execution_count": 57,
   "metadata": {},
   "outputs": [],
   "source": [
    "data.replace([\"I don't know\",\"don't know\"],'No reason',inplace=True)"
   ]
  },
  {
   "cell_type": "code",
   "execution_count": 58,
   "metadata": {},
   "outputs": [],
   "source": [
    "data.replace(['Rules and regulation'],'Rules',inplace=True)"
   ]
  },
  {
   "cell_type": "code",
   "execution_count": 59,
   "metadata": {},
   "outputs": [],
   "source": [
    "data.replace('Well)_reputed_University ','Well_reputed_University',inplace=True)"
   ]
  },
  {
   "cell_type": "code",
   "execution_count": 60,
   "metadata": {},
   "outputs": [
    {
     "data": {
      "image/png": "[encoded data removed]",
      "text/plain": [
       "<Figure size 720x360 with 1 Axes>"
      ]
     },
     "metadata": {
      "needs_background": "light"
     },
     "output_type": "display_data"
    }
   ],
   "source": [
    "bar_chart('IUBAT Choosing Reason')"
   ]
  },
  {
   "cell_type": "code",
   "execution_count": 61,
   "metadata": {},
   "outputs": [
    {
     "data": {
      "text/plain": [
       "Waiver                       77\n",
       "Beautiful_campus             75\n",
       "Gurdian's_choice             32\n",
       "Suggestion                   29\n",
       "Transportation               28\n",
       "Loan_system                  18\n",
       "Quality_education            14\n",
       "Near                         13\n",
       "For_mechanical_department    10\n",
       "IEB_membership               10\n",
       "Good_for_diploma_holders      8\n",
       "No option without it          6\n",
       "Teaching_quality              6\n",
       "Well_developed                5\n",
       "Educational_background        4\n",
       "No reason                     4\n",
       "For_Agriculture_dept          3\n",
       "Favourite_University          3\n",
       "Rules                         3\n",
       "Finance                       2\n",
       "Standard_university           2\n",
       "Best_option                   2\n",
       "Many_facilities               2\n",
       "First_private_vniversity      1\n",
       "Scholarhip                    1\n",
       "Best_university               1\n",
       "Reasonable_tiutuon_fee.       1\n",
       "Well_reputed_University       1\n",
       "Many_facility                 1\n",
       "Name: IUBAT Choosing Reason, dtype: int64"
      ]
     },
     "execution_count": 61,
     "metadata": {},
     "output_type": "execute_result"
    }
   ],
   "source": [
    "pd.value_counts(data['IUBAT Choosing Reason'])"
   ]
  },
  {
   "cell_type": "markdown",
   "metadata": {},
   "source": [
    "# Filling the missing value"
   ]
  },
  {
   "cell_type": "code",
   "execution_count": 62,
   "metadata": {},
   "outputs": [
    {
     "data": {
      "text/plain": [
       "<matplotlib.axes._subplots.AxesSubplot at 0x7ffb62b84090>"
      ]
     },
     "execution_count": 62,
     "metadata": {},
     "output_type": "execute_result"
    },
    {
     "data": {
      "image/png": "[encoded data removed]",
      "text/plain": [
       "<Figure size 432x288 with 1 Axes>"
      ]
     },
     "metadata": {
      "needs_background": "light"
     },
     "output_type": "display_data"
    }
   ],
   "source": [
    "sns.heatmap(data.isnull(), yticklabels = False, cbar = False)"
   ]
  },
  {
   "cell_type": "code",
   "execution_count": 63,
   "metadata": {},
   "outputs": [],
   "source": [
    "data['If any, give reason'] = data['If any, give reason'].fillna(data['If any, give reason'].mode()[0])"
   ]
  },
  {
   "cell_type": "code",
   "execution_count": 64,
   "metadata": {},
   "outputs": [],
   "source": [
    "data['IUBAT Choosing Reason'] = data['IUBAT Choosing Reason'].fillna(data['IUBAT Choosing Reason'].mode()[0])"
   ]
  },
  {
   "cell_type": "code",
   "execution_count": 65,
   "metadata": {},
   "outputs": [
    {
     "data": {
      "text/plain": [
       "<matplotlib.axes._subplots.AxesSubplot at 0x7ffb62d9fdd0>"
      ]
     },
     "execution_count": 65,
     "metadata": {},
     "output_type": "execute_result"
    },
    {
     "data": {
      "image/png": "[encoded data removed]",
      "text/plain": [
       "<Figure size 432x288 with 1 Axes>"
      ]
     },
     "metadata": {
      "needs_background": "light"
     },
     "output_type": "display_data"
    }
   ],
   "source": [
    "sns.heatmap(data.isnull(), yticklabels = False, cbar = False)"
   ]
  },
  {
   "cell_type": "code",
   "execution_count": 66,
   "metadata": {},
   "outputs": [
    {
     "data": {
      "text/plain": [
       "ID                           0\n",
       "Name                         0\n",
       "Gender                       0\n",
       "Present Address              0\n",
       "Using transportation         0\n",
       "Apply for another varsity    0\n",
       "Suppose admission            0\n",
       "Waiver                       0\n",
       "KNPwCIfIbDA                  0\n",
       "If any, give reason          0\n",
       "IUBAT Choosing Reason        0\n",
       "dtype: int64"
      ]
     },
     "execution_count": 66,
     "metadata": {},
     "output_type": "execute_result"
    }
   ],
   "source": [
    "data.isnull().sum()"
   ]
  },
  {
   "cell_type": "code",
   "execution_count": 67,
   "metadata": {},
   "outputs": [
    {
     "data": {
      "text/html": [
       "<div>\n",
       "<style scoped>\n",
       "    .dataframe tbody tr th:only-of-type {\n",
       "        vertical-align: middle;\n",
       "    }\n",
       "\n",
       "    .dataframe tbody tr th {\n",
       "        vertical-align: top;\n",
       "    }\n",
       "\n",
       "    .dataframe thead th {\n",
       "        text-align: right;\n",
       "    }\n",
       "</style>\n",
       "<table border=\"1\" class=\"dataframe\">\n",
       "  <thead>\n",
       "    <tr style=\"text-align: right;\">\n",
       "      <th></th>\n",
       "      <th>ID</th>\n",
       "      <th>Name</th>\n",
       "      <th>Gender</th>\n",
       "      <th>Present Address</th>\n",
       "      <th>Using transportation</th>\n",
       "      <th>Apply for another varsity</th>\n",
       "      <th>Suppose admission</th>\n",
       "      <th>Waiver</th>\n",
       "      <th>KNPwCIfIbDA</th>\n",
       "      <th>If any, give reason</th>\n",
       "      <th>IUBAT Choosing Reason</th>\n",
       "    </tr>\n",
       "  </thead>\n",
       "  <tbody>\n",
       "    <tr>\n",
       "      <th>0</th>\n",
       "      <td>20103131</td>\n",
       "      <td>Tanvir Hossain</td>\n",
       "      <td>Male</td>\n",
       "      <td>Uttara, Dhaka</td>\n",
       "      <td>0</td>\n",
       "      <td>1</td>\n",
       "      <td>1</td>\n",
       "      <td>100</td>\n",
       "      <td>0</td>\n",
       "      <td>Admitted_another_private_varsity</td>\n",
       "      <td>Well_developed</td>\n",
       "    </tr>\n",
       "    <tr>\n",
       "      <th>1</th>\n",
       "      <td>19303025</td>\n",
       "      <td>Abdullah Munim Khan</td>\n",
       "      <td>Male</td>\n",
       "      <td>Mirpur, Dhaka</td>\n",
       "      <td>1</td>\n",
       "      <td>1</td>\n",
       "      <td>0</td>\n",
       "      <td>15</td>\n",
       "      <td>0</td>\n",
       "      <td>Admitted_another_private_varsity</td>\n",
       "      <td>Quality_education</td>\n",
       "    </tr>\n",
       "    <tr>\n",
       "      <th>2</th>\n",
       "      <td>20103147</td>\n",
       "      <td>Md Azhar Uddin</td>\n",
       "      <td>Male</td>\n",
       "      <td>Narayanganj</td>\n",
       "      <td>0</td>\n",
       "      <td>0</td>\n",
       "      <td>1</td>\n",
       "      <td>15</td>\n",
       "      <td>1</td>\n",
       "      <td>pandemic</td>\n",
       "      <td>Teaching_quality</td>\n",
       "    </tr>\n",
       "    <tr>\n",
       "      <th>3</th>\n",
       "      <td>19103235</td>\n",
       "      <td>Farjana Pervin Ruma</td>\n",
       "      <td>Female</td>\n",
       "      <td>Gazipur</td>\n",
       "      <td>0</td>\n",
       "      <td>1</td>\n",
       "      <td>0</td>\n",
       "      <td>100</td>\n",
       "      <td>0</td>\n",
       "      <td>Admitted_another_private_varsity</td>\n",
       "      <td>Waiver</td>\n",
       "    </tr>\n",
       "    <tr>\n",
       "      <th>4</th>\n",
       "      <td>19203033</td>\n",
       "      <td>Shraboni Saha Puja</td>\n",
       "      <td>Female</td>\n",
       "      <td>Mirpur, Dhaka</td>\n",
       "      <td>0</td>\n",
       "      <td>1</td>\n",
       "      <td>0</td>\n",
       "      <td>30</td>\n",
       "      <td>0</td>\n",
       "      <td>Admitted_another_private_varsity</td>\n",
       "      <td>Waiver</td>\n",
       "    </tr>\n",
       "  </tbody>\n",
       "</table>\n",
       "</div>"
      ],
      "text/plain": [
       "         ID                    Name  Gender Present Address  \\\n",
       "0  20103131         Tanvir Hossain     Male   Uttara, Dhaka   \n",
       "1  19303025  Abdullah Munim Khan       Male   Mirpur, Dhaka   \n",
       "2  20103147          Md Azhar Uddin    Male     Narayanganj   \n",
       "3  19103235  Farjana Pervin Ruma     Female         Gazipur   \n",
       "4  19203033      Shraboni Saha Puja  Female   Mirpur, Dhaka   \n",
       "\n",
       "   Using transportation  Apply for another varsity  Suppose admission  Waiver  \\\n",
       "0                     0                          1                  1     100   \n",
       "1                     1                          1                  0      15   \n",
       "2                     0                          0                  1      15   \n",
       "3                     0                          1                  0     100   \n",
       "4                     0                          1                  0      30   \n",
       "\n",
       "   KNPwCIfIbDA               If any, give reason IUBAT Choosing Reason  \n",
       "0            0  Admitted_another_private_varsity        Well_developed  \n",
       "1            0  Admitted_another_private_varsity     Quality_education  \n",
       "2            1                          pandemic      Teaching_quality  \n",
       "3            0  Admitted_another_private_varsity                Waiver  \n",
       "4            0  Admitted_another_private_varsity                Waiver  "
      ]
     },
     "execution_count": 67,
     "metadata": {},
     "output_type": "execute_result"
    }
   ],
   "source": [
    "data.head()"
   ]
  },
  {
   "cell_type": "code",
   "execution_count": 68,
   "metadata": {},
   "outputs": [],
   "source": [
    "# Feature engineering and droping column\n",
    "data['Gender'].replace(['Male','Female'],[0,1],inplace=True)"
   ]
  },
  {
   "cell_type": "code",
   "execution_count": 69,
   "metadata": {},
   "outputs": [
    {
     "data": {
      "text/html": [
       "<div>\n",
       "<style scoped>\n",
       "    .dataframe tbody tr th:only-of-type {\n",
       "        vertical-align: middle;\n",
       "    }\n",
       "\n",
       "    .dataframe tbody tr th {\n",
       "        vertical-align: top;\n",
       "    }\n",
       "\n",
       "    .dataframe thead th {\n",
       "        text-align: right;\n",
       "    }\n",
       "</style>\n",
       "<table border=\"1\" class=\"dataframe\">\n",
       "  <thead>\n",
       "    <tr style=\"text-align: right;\">\n",
       "      <th></th>\n",
       "      <th>ID</th>\n",
       "      <th>Name</th>\n",
       "      <th>Gender</th>\n",
       "      <th>Present Address</th>\n",
       "      <th>Using transportation</th>\n",
       "      <th>Apply for another varsity</th>\n",
       "      <th>Suppose admission</th>\n",
       "      <th>Waiver</th>\n",
       "      <th>KNPwCIfIbDA</th>\n",
       "      <th>If any, give reason</th>\n",
       "      <th>IUBAT Choosing Reason</th>\n",
       "    </tr>\n",
       "  </thead>\n",
       "  <tbody>\n",
       "    <tr>\n",
       "      <th>0</th>\n",
       "      <td>20103131</td>\n",
       "      <td>Tanvir Hossain</td>\n",
       "      <td>0</td>\n",
       "      <td>Uttara, Dhaka</td>\n",
       "      <td>0</td>\n",
       "      <td>1</td>\n",
       "      <td>1</td>\n",
       "      <td>100</td>\n",
       "      <td>0</td>\n",
       "      <td>Admitted_another_private_varsity</td>\n",
       "      <td>Well_developed</td>\n",
       "    </tr>\n",
       "    <tr>\n",
       "      <th>1</th>\n",
       "      <td>19303025</td>\n",
       "      <td>Abdullah Munim Khan</td>\n",
       "      <td>0</td>\n",
       "      <td>Mirpur, Dhaka</td>\n",
       "      <td>1</td>\n",
       "      <td>1</td>\n",
       "      <td>0</td>\n",
       "      <td>15</td>\n",
       "      <td>0</td>\n",
       "      <td>Admitted_another_private_varsity</td>\n",
       "      <td>Quality_education</td>\n",
       "    </tr>\n",
       "    <tr>\n",
       "      <th>2</th>\n",
       "      <td>20103147</td>\n",
       "      <td>Md Azhar Uddin</td>\n",
       "      <td>0</td>\n",
       "      <td>Narayanganj</td>\n",
       "      <td>0</td>\n",
       "      <td>0</td>\n",
       "      <td>1</td>\n",
       "      <td>15</td>\n",
       "      <td>1</td>\n",
       "      <td>pandemic</td>\n",
       "      <td>Teaching_quality</td>\n",
       "    </tr>\n",
       "    <tr>\n",
       "      <th>3</th>\n",
       "      <td>19103235</td>\n",
       "      <td>Farjana Pervin Ruma</td>\n",
       "      <td>1</td>\n",
       "      <td>Gazipur</td>\n",
       "      <td>0</td>\n",
       "      <td>1</td>\n",
       "      <td>0</td>\n",
       "      <td>100</td>\n",
       "      <td>0</td>\n",
       "      <td>Admitted_another_private_varsity</td>\n",
       "      <td>Waiver</td>\n",
       "    </tr>\n",
       "    <tr>\n",
       "      <th>4</th>\n",
       "      <td>19203033</td>\n",
       "      <td>Shraboni Saha Puja</td>\n",
       "      <td>1</td>\n",
       "      <td>Mirpur, Dhaka</td>\n",
       "      <td>0</td>\n",
       "      <td>1</td>\n",
       "      <td>0</td>\n",
       "      <td>30</td>\n",
       "      <td>0</td>\n",
       "      <td>Admitted_another_private_varsity</td>\n",
       "      <td>Waiver</td>\n",
       "    </tr>\n",
       "  </tbody>\n",
       "</table>\n",
       "</div>"
      ],
      "text/plain": [
       "         ID                    Name  Gender Present Address  \\\n",
       "0  20103131         Tanvir Hossain        0   Uttara, Dhaka   \n",
       "1  19303025  Abdullah Munim Khan          0   Mirpur, Dhaka   \n",
       "2  20103147          Md Azhar Uddin       0     Narayanganj   \n",
       "3  19103235  Farjana Pervin Ruma          1         Gazipur   \n",
       "4  19203033      Shraboni Saha Puja       1   Mirpur, Dhaka   \n",
       "\n",
       "   Using transportation  Apply for another varsity  Suppose admission  Waiver  \\\n",
       "0                     0                          1                  1     100   \n",
       "1                     1                          1                  0      15   \n",
       "2                     0                          0                  1      15   \n",
       "3                     0                          1                  0     100   \n",
       "4                     0                          1                  0      30   \n",
       "\n",
       "   KNPwCIfIbDA               If any, give reason IUBAT Choosing Reason  \n",
       "0            0  Admitted_another_private_varsity        Well_developed  \n",
       "1            0  Admitted_another_private_varsity     Quality_education  \n",
       "2            1                          pandemic      Teaching_quality  \n",
       "3            0  Admitted_another_private_varsity                Waiver  \n",
       "4            0  Admitted_another_private_varsity                Waiver  "
      ]
     },
     "execution_count": 69,
     "metadata": {},
     "output_type": "execute_result"
    }
   ],
   "source": [
    "data.head()"
   ]
  },
  {
   "cell_type": "code",
   "execution_count": 70,
   "metadata": {},
   "outputs": [],
   "source": [
    "data.drop(['ID','Name'],axis=1,inplace=True)"
   ]
  },
  {
   "cell_type": "code",
   "execution_count": 71,
   "metadata": {},
   "outputs": [
    {
     "data": {
      "text/html": [
       "<div>\n",
       "<style scoped>\n",
       "    .dataframe tbody tr th:only-of-type {\n",
       "        vertical-align: middle;\n",
       "    }\n",
       "\n",
       "    .dataframe tbody tr th {\n",
       "        vertical-align: top;\n",
       "    }\n",
       "\n",
       "    .dataframe thead th {\n",
       "        text-align: right;\n",
       "    }\n",
       "</style>\n",
       "<table border=\"1\" class=\"dataframe\">\n",
       "  <thead>\n",
       "    <tr style=\"text-align: right;\">\n",
       "      <th></th>\n",
       "      <th>Gender</th>\n",
       "      <th>Present Address</th>\n",
       "      <th>Using transportation</th>\n",
       "      <th>Apply for another varsity</th>\n",
       "      <th>Suppose admission</th>\n",
       "      <th>Waiver</th>\n",
       "      <th>KNPwCIfIbDA</th>\n",
       "      <th>If any, give reason</th>\n",
       "      <th>IUBAT Choosing Reason</th>\n",
       "    </tr>\n",
       "  </thead>\n",
       "  <tbody>\n",
       "    <tr>\n",
       "      <th>0</th>\n",
       "      <td>0</td>\n",
       "      <td>Uttara, Dhaka</td>\n",
       "      <td>0</td>\n",
       "      <td>1</td>\n",
       "      <td>1</td>\n",
       "      <td>100</td>\n",
       "      <td>0</td>\n",
       "      <td>Admitted_another_private_varsity</td>\n",
       "      <td>Well_developed</td>\n",
       "    </tr>\n",
       "    <tr>\n",
       "      <th>1</th>\n",
       "      <td>0</td>\n",
       "      <td>Mirpur, Dhaka</td>\n",
       "      <td>1</td>\n",
       "      <td>1</td>\n",
       "      <td>0</td>\n",
       "      <td>15</td>\n",
       "      <td>0</td>\n",
       "      <td>Admitted_another_private_varsity</td>\n",
       "      <td>Quality_education</td>\n",
       "    </tr>\n",
       "    <tr>\n",
       "      <th>2</th>\n",
       "      <td>0</td>\n",
       "      <td>Narayanganj</td>\n",
       "      <td>0</td>\n",
       "      <td>0</td>\n",
       "      <td>1</td>\n",
       "      <td>15</td>\n",
       "      <td>1</td>\n",
       "      <td>pandemic</td>\n",
       "      <td>Teaching_quality</td>\n",
       "    </tr>\n",
       "    <tr>\n",
       "      <th>3</th>\n",
       "      <td>1</td>\n",
       "      <td>Gazipur</td>\n",
       "      <td>0</td>\n",
       "      <td>1</td>\n",
       "      <td>0</td>\n",
       "      <td>100</td>\n",
       "      <td>0</td>\n",
       "      <td>Admitted_another_private_varsity</td>\n",
       "      <td>Waiver</td>\n",
       "    </tr>\n",
       "    <tr>\n",
       "      <th>4</th>\n",
       "      <td>1</td>\n",
       "      <td>Mirpur, Dhaka</td>\n",
       "      <td>0</td>\n",
       "      <td>1</td>\n",
       "      <td>0</td>\n",
       "      <td>30</td>\n",
       "      <td>0</td>\n",
       "      <td>Admitted_another_private_varsity</td>\n",
       "      <td>Waiver</td>\n",
       "    </tr>\n",
       "  </tbody>\n",
       "</table>\n",
       "</div>"
      ],
      "text/plain": [
       "   Gender Present Address  Using transportation  Apply for another varsity  \\\n",
       "0       0   Uttara, Dhaka                     0                          1   \n",
       "1       0   Mirpur, Dhaka                     1                          1   \n",
       "2       0     Narayanganj                     0                          0   \n",
       "3       1         Gazipur                     0                          1   \n",
       "4       1   Mirpur, Dhaka                     0                          1   \n",
       "\n",
       "   Suppose admission  Waiver  KNPwCIfIbDA               If any, give reason  \\\n",
       "0                  1     100            0  Admitted_another_private_varsity   \n",
       "1                  0      15            0  Admitted_another_private_varsity   \n",
       "2                  1      15            1                          pandemic   \n",
       "3                  0     100            0  Admitted_another_private_varsity   \n",
       "4                  0      30            0  Admitted_another_private_varsity   \n",
       "\n",
       "  IUBAT Choosing Reason  \n",
       "0        Well_developed  \n",
       "1     Quality_education  \n",
       "2      Teaching_quality  \n",
       "3                Waiver  \n",
       "4                Waiver  "
      ]
     },
     "execution_count": 71,
     "metadata": {},
     "output_type": "execute_result"
    }
   ],
   "source": [
    "data.head()"
   ]
  },
  {
   "cell_type": "code",
   "execution_count": null,
   "metadata": {},
   "outputs": [],
   "source": []
  },
  {
   "cell_type": "code",
   "execution_count": 72,
   "metadata": {},
   "outputs": [
    {
     "data": {
      "image/png": "[encoded data removed]",
      "text/plain": [
       "<Figure size 432x288 with 2 Axes>"
      ]
     },
     "metadata": {
      "needs_background": "light"
     },
     "output_type": "display_data"
    }
   ],
   "source": [
    "heatmap = sns.heatmap(data.corr(), vmin=-1, vmax=1, annot=True)\n",
    "heatmap.set_title('Correlation Heatmap', fontdict={'fontsize':12}, pad=12);"
   ]
  },
  {
   "cell_type": "code",
   "execution_count": 73,
   "metadata": {},
   "outputs": [],
   "source": [
    "# label encoding the data \n",
    "#from sklearn.preprocessing import LabelEncoder \n",
    "  \n",
    "#le = LabelEncoder() \n",
    "  \n",
    "#data['Present Address']= le.fit_transform(data['Present Address']) \n",
    "#data['If any, give reason']= le.fit_transform(data['If any, give reason']) \n",
    "#data['IUBAT Choosing Reason']=le.fit_transform(data['IUBAT Choosing Reason'])"
   ]
  },
  {
   "cell_type": "code",
   "execution_count": 74,
   "metadata": {},
   "outputs": [
    {
     "data": {
      "text/html": [
       "<div>\n",
       "<style scoped>\n",
       "    .dataframe tbody tr th:only-of-type {\n",
       "        vertical-align: middle;\n",
       "    }\n",
       "\n",
       "    .dataframe tbody tr th {\n",
       "        vertical-align: top;\n",
       "    }\n",
       "\n",
       "    .dataframe thead th {\n",
       "        text-align: right;\n",
       "    }\n",
       "</style>\n",
       "<table border=\"1\" class=\"dataframe\">\n",
       "  <thead>\n",
       "    <tr style=\"text-align: right;\">\n",
       "      <th></th>\n",
       "      <th>Gender</th>\n",
       "      <th>Present Address</th>\n",
       "      <th>Using transportation</th>\n",
       "      <th>Apply for another varsity</th>\n",
       "      <th>Suppose admission</th>\n",
       "      <th>Waiver</th>\n",
       "      <th>KNPwCIfIbDA</th>\n",
       "      <th>If any, give reason</th>\n",
       "      <th>IUBAT Choosing Reason</th>\n",
       "    </tr>\n",
       "  </thead>\n",
       "  <tbody>\n",
       "    <tr>\n",
       "      <th>0</th>\n",
       "      <td>0</td>\n",
       "      <td>Uttara, Dhaka</td>\n",
       "      <td>0</td>\n",
       "      <td>1</td>\n",
       "      <td>1</td>\n",
       "      <td>100</td>\n",
       "      <td>0</td>\n",
       "      <td>Admitted_another_private_varsity</td>\n",
       "      <td>Well_developed</td>\n",
       "    </tr>\n",
       "    <tr>\n",
       "      <th>1</th>\n",
       "      <td>0</td>\n",
       "      <td>Mirpur, Dhaka</td>\n",
       "      <td>1</td>\n",
       "      <td>1</td>\n",
       "      <td>0</td>\n",
       "      <td>15</td>\n",
       "      <td>0</td>\n",
       "      <td>Admitted_another_private_varsity</td>\n",
       "      <td>Quality_education</td>\n",
       "    </tr>\n",
       "    <tr>\n",
       "      <th>2</th>\n",
       "      <td>0</td>\n",
       "      <td>Narayanganj</td>\n",
       "      <td>0</td>\n",
       "      <td>0</td>\n",
       "      <td>1</td>\n",
       "      <td>15</td>\n",
       "      <td>1</td>\n",
       "      <td>pandemic</td>\n",
       "      <td>Teaching_quality</td>\n",
       "    </tr>\n",
       "    <tr>\n",
       "      <th>3</th>\n",
       "      <td>1</td>\n",
       "      <td>Gazipur</td>\n",
       "      <td>0</td>\n",
       "      <td>1</td>\n",
       "      <td>0</td>\n",
       "      <td>100</td>\n",
       "      <td>0</td>\n",
       "      <td>Admitted_another_private_varsity</td>\n",
       "      <td>Waiver</td>\n",
       "    </tr>\n",
       "    <tr>\n",
       "      <th>4</th>\n",
       "      <td>1</td>\n",
       "      <td>Mirpur, Dhaka</td>\n",
       "      <td>0</td>\n",
       "      <td>1</td>\n",
       "      <td>0</td>\n",
       "      <td>30</td>\n",
       "      <td>0</td>\n",
       "      <td>Admitted_another_private_varsity</td>\n",
       "      <td>Waiver</td>\n",
       "    </tr>\n",
       "  </tbody>\n",
       "</table>\n",
       "</div>"
      ],
      "text/plain": [
       "   Gender Present Address  Using transportation  Apply for another varsity  \\\n",
       "0       0   Uttara, Dhaka                     0                          1   \n",
       "1       0   Mirpur, Dhaka                     1                          1   \n",
       "2       0     Narayanganj                     0                          0   \n",
       "3       1         Gazipur                     0                          1   \n",
       "4       1   Mirpur, Dhaka                     0                          1   \n",
       "\n",
       "   Suppose admission  Waiver  KNPwCIfIbDA               If any, give reason  \\\n",
       "0                  1     100            0  Admitted_another_private_varsity   \n",
       "1                  0      15            0  Admitted_another_private_varsity   \n",
       "2                  1      15            1                          pandemic   \n",
       "3                  0     100            0  Admitted_another_private_varsity   \n",
       "4                  0      30            0  Admitted_another_private_varsity   \n",
       "\n",
       "  IUBAT Choosing Reason  \n",
       "0        Well_developed  \n",
       "1     Quality_education  \n",
       "2      Teaching_quality  \n",
       "3                Waiver  \n",
       "4                Waiver  "
      ]
     },
     "execution_count": 74,
     "metadata": {},
     "output_type": "execute_result"
    }
   ],
   "source": [
    "data.head()"
   ]
  },
  {
   "cell_type": "code",
   "execution_count": 75,
   "metadata": {},
   "outputs": [
    {
     "data": {
      "text/plain": [
       "(405, 9)"
      ]
     },
     "execution_count": 75,
     "metadata": {},
     "output_type": "execute_result"
    }
   ],
   "source": [
    "data.shape"
   ]
  },
  {
   "cell_type": "code",
   "execution_count": 76,
   "metadata": {},
   "outputs": [
    {
     "data": {
      "text/plain": [
       "['Present Address', 'Waiver', 'If any, give reason', 'IUBAT Choosing Reason']"
      ]
     },
     "execution_count": 76,
     "metadata": {},
     "output_type": "execute_result"
    }
   ],
   "source": [
    "columns=['Present Address','Waiver','If any, give reason','IUBAT Choosing Reason']\n",
    "columns"
   ]
  },
  {
   "cell_type": "code",
   "execution_count": 77,
   "metadata": {},
   "outputs": [],
   "source": [
    "def category_onehot_multcols(multicolumns):\n",
    "    df_final = final_df\n",
    "    i = 0\n",
    "    for fields in multicolumns:\n",
    "        print(fields)\n",
    "        df1=pd.get_dummies(final_df[fields],drop_first=True)\n",
    "        \n",
    "        final_df.drop([fields],axis=1,inplace=True)\n",
    "        if i==0:\n",
    "            df_final=df1.copy()\n",
    "        else:\n",
    "            df_final=pd.concat([df_final,df1],axis=1)\n",
    "        i+=1\n",
    "        \n",
    "    df_final=pd.concat([final_df,df_final],axis=1)\n",
    "    return df_final"
   ]
  },
  {
   "cell_type": "code",
   "execution_count": 78,
   "metadata": {},
   "outputs": [],
   "source": [
    "final_df = data"
   ]
  },
  {
   "cell_type": "code",
   "execution_count": 79,
   "metadata": {},
   "outputs": [
    {
     "data": {
      "text/plain": [
       "(405, 9)"
      ]
     },
     "execution_count": 79,
     "metadata": {},
     "output_type": "execute_result"
    }
   ],
   "source": [
    "final_df.shape"
   ]
  },
  {
   "cell_type": "code",
   "execution_count": 80,
   "metadata": {},
   "outputs": [
    {
     "name": "stdout",
     "output_type": "stream",
     "text": [
      "Present Address\n",
      "Waiver\n",
      "If any, give reason\n",
      "IUBAT Choosing Reason\n"
     ]
    }
   ],
   "source": [
    "final_df = category_onehot_multcols(columns)"
   ]
  },
  {
   "cell_type": "code",
   "execution_count": 81,
   "metadata": {},
   "outputs": [
    {
     "data": {
      "text/plain": [
       "(405, 96)"
      ]
     },
     "execution_count": 81,
     "metadata": {},
     "output_type": "execute_result"
    }
   ],
   "source": [
    "final_df.shape"
   ]
  },
  {
   "cell_type": "code",
   "execution_count": 82,
   "metadata": {},
   "outputs": [],
   "source": [
    "final_df =final_df.loc[:,~final_df.columns.duplicated()]"
   ]
  },
  {
   "cell_type": "code",
   "execution_count": 83,
   "metadata": {},
   "outputs": [
    {
     "data": {
      "text/plain": [
       "(405, 92)"
      ]
     },
     "execution_count": 83,
     "metadata": {},
     "output_type": "execute_result"
    }
   ],
   "source": [
    "final_df.shape"
   ]
  },
  {
   "cell_type": "code",
   "execution_count": 84,
   "metadata": {},
   "outputs": [
    {
     "data": {
      "text/html": [
       "<div>\n",
       "<style scoped>\n",
       "    .dataframe tbody tr th:only-of-type {\n",
       "        vertical-align: middle;\n",
       "    }\n",
       "\n",
       "    .dataframe tbody tr th {\n",
       "        vertical-align: top;\n",
       "    }\n",
       "\n",
       "    .dataframe thead th {\n",
       "        text-align: right;\n",
       "    }\n",
       "</style>\n",
       "<table border=\"1\" class=\"dataframe\">\n",
       "  <thead>\n",
       "    <tr style=\"text-align: right;\">\n",
       "      <th></th>\n",
       "      <th>Gender</th>\n",
       "      <th>Using transportation</th>\n",
       "      <th>Apply for another varsity</th>\n",
       "      <th>Suppose admission</th>\n",
       "      <th>KNPwCIfIbDA</th>\n",
       "      <th>Bangshal, Dhaka</th>\n",
       "      <th>Bosundhara, Dhaka</th>\n",
       "      <th>Cantonment, Dhaka</th>\n",
       "      <th>Dakkhinkhan, Dhaka</th>\n",
       "      <th>Dhaka</th>\n",
       "      <th>...</th>\n",
       "      <th>No option without it</th>\n",
       "      <th>No reason</th>\n",
       "      <th>Reasonable_tiutuon_fee.</th>\n",
       "      <th>Scholarhip</th>\n",
       "      <th>Standard_university</th>\n",
       "      <th>Suggestion</th>\n",
       "      <th>Teaching_quality</th>\n",
       "      <th>Waiver</th>\n",
       "      <th>Well_developed</th>\n",
       "      <th>Well_reputed_University</th>\n",
       "    </tr>\n",
       "  </thead>\n",
       "  <tbody>\n",
       "    <tr>\n",
       "      <th>0</th>\n",
       "      <td>0</td>\n",
       "      <td>0</td>\n",
       "      <td>1</td>\n",
       "      <td>1</td>\n",
       "      <td>0</td>\n",
       "      <td>0</td>\n",
       "      <td>0</td>\n",
       "      <td>0</td>\n",
       "      <td>0</td>\n",
       "      <td>0</td>\n",
       "      <td>...</td>\n",
       "      <td>0</td>\n",
       "      <td>0</td>\n",
       "      <td>0</td>\n",
       "      <td>0</td>\n",
       "      <td>0</td>\n",
       "      <td>0</td>\n",
       "      <td>0</td>\n",
       "      <td>0</td>\n",
       "      <td>1</td>\n",
       "      <td>0</td>\n",
       "    </tr>\n",
       "    <tr>\n",
       "      <th>1</th>\n",
       "      <td>0</td>\n",
       "      <td>1</td>\n",
       "      <td>1</td>\n",
       "      <td>0</td>\n",
       "      <td>0</td>\n",
       "      <td>0</td>\n",
       "      <td>0</td>\n",
       "      <td>0</td>\n",
       "      <td>0</td>\n",
       "      <td>0</td>\n",
       "      <td>...</td>\n",
       "      <td>0</td>\n",
       "      <td>0</td>\n",
       "      <td>0</td>\n",
       "      <td>0</td>\n",
       "      <td>0</td>\n",
       "      <td>0</td>\n",
       "      <td>0</td>\n",
       "      <td>0</td>\n",
       "      <td>0</td>\n",
       "      <td>0</td>\n",
       "    </tr>\n",
       "    <tr>\n",
       "      <th>2</th>\n",
       "      <td>0</td>\n",
       "      <td>0</td>\n",
       "      <td>0</td>\n",
       "      <td>1</td>\n",
       "      <td>1</td>\n",
       "      <td>0</td>\n",
       "      <td>0</td>\n",
       "      <td>0</td>\n",
       "      <td>0</td>\n",
       "      <td>0</td>\n",
       "      <td>...</td>\n",
       "      <td>0</td>\n",
       "      <td>0</td>\n",
       "      <td>0</td>\n",
       "      <td>0</td>\n",
       "      <td>0</td>\n",
       "      <td>0</td>\n",
       "      <td>1</td>\n",
       "      <td>0</td>\n",
       "      <td>0</td>\n",
       "      <td>0</td>\n",
       "    </tr>\n",
       "    <tr>\n",
       "      <th>3</th>\n",
       "      <td>1</td>\n",
       "      <td>0</td>\n",
       "      <td>1</td>\n",
       "      <td>0</td>\n",
       "      <td>0</td>\n",
       "      <td>0</td>\n",
       "      <td>0</td>\n",
       "      <td>0</td>\n",
       "      <td>0</td>\n",
       "      <td>0</td>\n",
       "      <td>...</td>\n",
       "      <td>0</td>\n",
       "      <td>0</td>\n",
       "      <td>0</td>\n",
       "      <td>0</td>\n",
       "      <td>0</td>\n",
       "      <td>0</td>\n",
       "      <td>0</td>\n",
       "      <td>1</td>\n",
       "      <td>0</td>\n",
       "      <td>0</td>\n",
       "    </tr>\n",
       "    <tr>\n",
       "      <th>4</th>\n",
       "      <td>1</td>\n",
       "      <td>0</td>\n",
       "      <td>1</td>\n",
       "      <td>0</td>\n",
       "      <td>0</td>\n",
       "      <td>0</td>\n",
       "      <td>0</td>\n",
       "      <td>0</td>\n",
       "      <td>0</td>\n",
       "      <td>0</td>\n",
       "      <td>...</td>\n",
       "      <td>0</td>\n",
       "      <td>0</td>\n",
       "      <td>0</td>\n",
       "      <td>0</td>\n",
       "      <td>0</td>\n",
       "      <td>0</td>\n",
       "      <td>0</td>\n",
       "      <td>1</td>\n",
       "      <td>0</td>\n",
       "      <td>0</td>\n",
       "    </tr>\n",
       "  </tbody>\n",
       "</table>\n",
       "<p>5 rows × 92 columns</p>\n",
       "</div>"
      ],
      "text/plain": [
       "   Gender  Using transportation  Apply for another varsity  Suppose admission  \\\n",
       "0       0                     0                          1                  1   \n",
       "1       0                     1                          1                  0   \n",
       "2       0                     0                          0                  1   \n",
       "3       1                     0                          1                  0   \n",
       "4       1                     0                          1                  0   \n",
       "\n",
       "   KNPwCIfIbDA  Bangshal, Dhaka  Bosundhara, Dhaka  Cantonment, Dhaka  \\\n",
       "0            0                0                  0                  0   \n",
       "1            0                0                  0                  0   \n",
       "2            1                0                  0                  0   \n",
       "3            0                0                  0                  0   \n",
       "4            0                0                  0                  0   \n",
       "\n",
       "   Dakkhinkhan, Dhaka  Dhaka  ...  No option without it  No reason  \\\n",
       "0                   0      0  ...                     0          0   \n",
       "1                   0      0  ...                     0          0   \n",
       "2                   0      0  ...                     0          0   \n",
       "3                   0      0  ...                     0          0   \n",
       "4                   0      0  ...                     0          0   \n",
       "\n",
       "   Reasonable_tiutuon_fee.  Scholarhip  Standard_university  Suggestion  \\\n",
       "0                        0           0                    0           0   \n",
       "1                        0           0                    0           0   \n",
       "2                        0           0                    0           0   \n",
       "3                        0           0                    0           0   \n",
       "4                        0           0                    0           0   \n",
       "\n",
       "   Teaching_quality  Waiver  Well_developed  Well_reputed_University  \n",
       "0                 0       0               1                        0  \n",
       "1                 0       0               0                        0  \n",
       "2                 1       0               0                        0  \n",
       "3                 0       1               0                        0  \n",
       "4                 0       1               0                        0  \n",
       "\n",
       "[5 rows x 92 columns]"
      ]
     },
     "execution_count": 84,
     "metadata": {},
     "output_type": "execute_result"
    }
   ],
   "source": [
    "final_df.head()"
   ]
  },
  {
   "cell_type": "code",
   "execution_count": 85,
   "metadata": {},
   "outputs": [],
   "source": [
    "# Split into train test set\n",
    "from sklearn.model_selection import train_test_split\n",
    "train, test = train_test_split(final_df, test_size=0.25, random_state=42)"
   ]
  },
  {
   "cell_type": "code",
   "execution_count": 86,
   "metadata": {},
   "outputs": [
    {
     "data": {
      "text/plain": [
       "((303, 92), (102, 92))"
      ]
     },
     "execution_count": 86,
     "metadata": {},
     "output_type": "execute_result"
    }
   ],
   "source": [
    "train.shape,test.shape"
   ]
  },
  {
   "cell_type": "code",
   "execution_count": 87,
   "metadata": {},
   "outputs": [],
   "source": [
    "y_test = train['Suppose admission']\n",
    "X_test = train.drop('Suppose admission', axis=1)"
   ]
  },
  {
   "cell_type": "code",
   "execution_count": 88,
   "metadata": {},
   "outputs": [],
   "source": [
    "# preparing data for modeling\n",
    "target = train['Suppose admission']\n",
    "train_data = train.drop('Suppose admission', axis=1)"
   ]
  },
  {
   "cell_type": "code",
   "execution_count": 89,
   "metadata": {},
   "outputs": [
    {
     "data": {
      "text/plain": [
       "((303,), (303, 91))"
      ]
     },
     "execution_count": 89,
     "metadata": {},
     "output_type": "execute_result"
    }
   ],
   "source": [
    "target.shape, train_data.shape"
   ]
  },
  {
   "cell_type": "markdown",
   "metadata": {},
   "source": [
    "# Modeling"
   ]
  },
  {
   "cell_type": "code",
   "execution_count": 90,
   "metadata": {},
   "outputs": [],
   "source": [
    "from sklearn.tree import DecisionTreeClassifier\n",
    "from sklearn.ensemble import RandomForestClassifier\n",
    "from sklearn.linear_model import LogisticRegression"
   ]
  },
  {
   "cell_type": "code",
   "execution_count": 91,
   "metadata": {},
   "outputs": [],
   "source": [
    "from sklearn.model_selection import KFold\n",
    "from sklearn.model_selection import cross_val_score\n",
    "k_fold = KFold(n_splits=10, shuffle=True, random_state=42)"
   ]
  },
  {
   "cell_type": "markdown",
   "metadata": {},
   "source": [
    "# Decision Tree"
   ]
  },
  {
   "cell_type": "code",
   "execution_count": 92,
   "metadata": {},
   "outputs": [
    {
     "name": "stdout",
     "output_type": "stream",
     "text": [
      "[0.61290323 0.64516129 0.58064516 0.56666667 0.56666667 0.73333333\n",
      " 0.7        0.76666667 0.5        0.76666667]\n"
     ]
    }
   ],
   "source": [
    "clf = DecisionTreeClassifier()\n",
    "scoring = 'accuracy'\n",
    "score = cross_val_score(clf, train_data, target, cv=k_fold, n_jobs=1, scoring=scoring)\n",
    "print(score)"
   ]
  },
  {
   "cell_type": "code",
   "execution_count": 93,
   "metadata": {},
   "outputs": [
    {
     "data": {
      "text/plain": [
       "64.39"
      ]
     },
     "execution_count": 93,
     "metadata": {},
     "output_type": "execute_result"
    }
   ],
   "source": [
    "# decision tree score\n",
    "round(np.mean(score)*100,2)"
   ]
  },
  {
   "cell_type": "code",
   "execution_count": null,
   "metadata": {},
   "outputs": [],
   "source": []
  },
  {
   "cell_type": "markdown",
   "metadata": {},
   "source": [
    "# Random Forest"
   ]
  },
  {
   "cell_type": "code",
   "execution_count": 94,
   "metadata": {},
   "outputs": [
    {
     "name": "stdout",
     "output_type": "stream",
     "text": [
      "[0.70967742 0.80645161 0.74193548 0.6        0.7        0.66666667\n",
      " 0.73333333 0.83333333 0.53333333 0.86666667]\n"
     ]
    }
   ],
   "source": [
    "clf = RandomForestClassifier(n_estimators=13)\n",
    "scoring = 'accuracy'\n",
    "score = cross_val_score(clf, train_data, target, cv=k_fold, n_jobs=1, scoring=scoring)\n",
    "print(score)"
   ]
  },
  {
   "cell_type": "code",
   "execution_count": 95,
   "metadata": {},
   "outputs": [
    {
     "data": {
      "text/plain": [
       "71.91"
      ]
     },
     "execution_count": 95,
     "metadata": {},
     "output_type": "execute_result"
    }
   ],
   "source": [
    "# random forest score\n",
    "round(np.mean(score)*100, 2)"
   ]
  },
  {
   "cell_type": "code",
   "execution_count": null,
   "metadata": {},
   "outputs": [],
   "source": []
  },
  {
   "cell_type": "markdown",
   "metadata": {},
   "source": [
    "# Logistic Regression"
   ]
  },
  {
   "cell_type": "code",
   "execution_count": 96,
   "metadata": {},
   "outputs": [
    {
     "name": "stdout",
     "output_type": "stream",
     "text": [
      "[0.58064516 0.58064516 0.67741935 0.76666667 0.6        0.5\n",
      " 0.66666667 0.8        0.63333333 0.86666667]\n"
     ]
    }
   ],
   "source": [
    "clf = LogisticRegression()\n",
    "score = cross_val_score(clf, train_data, target, cv=k_fold, n_jobs=1, scoring=scoring)\n",
    "print(score)"
   ]
  },
  {
   "cell_type": "code",
   "execution_count": 97,
   "metadata": {},
   "outputs": [
    {
     "data": {
      "text/plain": [
       "66.72"
      ]
     },
     "execution_count": 97,
     "metadata": {},
     "output_type": "execute_result"
    }
   ],
   "source": [
    "# Logistic Regression score\n",
    "round(np.mean(score)*100, 2)"
   ]
  },
  {
   "cell_type": "code",
   "execution_count": 98,
   "metadata": {},
   "outputs": [
    {
     "name": "stdout",
     "output_type": "stream",
     "text": [
      "[0.63445378 0.64545455 0.80769231 0.785      0.53703704 0.40669856\n",
      " 0.69683258 0.77       0.48086124 0.912     ]\n"
     ]
    }
   ],
   "source": [
    "# Logistic Regression using roc_auc\n",
    "clf = LogisticRegression()\n",
    "score = cross_val_score(clf, train_data, target, cv=k_fold, scoring='roc_auc')\n",
    "print(score)"
   ]
  },
  {
   "cell_type": "code",
   "execution_count": 99,
   "metadata": {},
   "outputs": [
    {
     "data": {
      "text/plain": [
       "66.76"
      ]
     },
     "execution_count": 99,
     "metadata": {},
     "output_type": "execute_result"
    }
   ],
   "source": [
    "# Logistic Regression score\n",
    "round(np.mean(score)*100, 2)"
   ]
  },
  {
   "cell_type": "code",
   "execution_count": 100,
   "metadata": {},
   "outputs": [
    {
     "data": {
      "text/plain": [
       "0.7524752475247525"
      ]
     },
     "execution_count": 100,
     "metadata": {},
     "output_type": "execute_result"
    }
   ],
   "source": [
    "clf.fit(train_data, target)\n",
    "clf.score(X_test, y_test)"
   ]
  },
  {
   "cell_type": "markdown",
   "metadata": {},
   "source": [
    "# Naive Bayes"
   ]
  },
  {
   "cell_type": "code",
   "execution_count": 101,
   "metadata": {},
   "outputs": [
    {
     "name": "stdout",
     "output_type": "stream",
     "text": [
      "[0.73464912 0.6875     0.65454545 0.73883929 0.75       0.57954545\n",
      " 0.61111111 0.61764706 0.58522727 0.66742081]\n"
     ]
    },
    {
     "name": "stderr",
     "output_type": "stream",
     "text": [
      "/opt/anaconda3/envs/tensorflow/lib/python3.7/site-packages/sklearn/model_selection/_split.py:296: FutureWarning: Setting a random_state has no effect since shuffle is False. This will raise an error in 0.24. You should leave random_state to its default (None), or set shuffle=True.\n",
      "  FutureWarning\n"
     ]
    }
   ],
   "source": [
    "from sklearn.naive_bayes import GaussianNB\n",
    "clf = GaussianNB()\n",
    "cross_val = KFold(n_splits=10, random_state=42)\n",
    "score = cross_val_score(clf, train_data, target, cv=cross_val, scoring='roc_auc')\n",
    "print(score)"
   ]
  },
  {
   "cell_type": "code",
   "execution_count": 102,
   "metadata": {},
   "outputs": [
    {
     "data": {
      "text/plain": [
       "66.26"
      ]
     },
     "execution_count": 102,
     "metadata": {},
     "output_type": "execute_result"
    }
   ],
   "source": [
    "# Naive Bayes score\n",
    "round(np.mean(score)*100, 2)"
   ]
  },
  {
   "cell_type": "code",
   "execution_count": 103,
   "metadata": {},
   "outputs": [
    {
     "data": {
      "text/plain": [
       "0.5643564356435643"
      ]
     },
     "execution_count": 103,
     "metadata": {},
     "output_type": "execute_result"
    }
   ],
   "source": [
    "clf.fit(train_data, target)\n",
    "clf.score(X_test, y_test)"
   ]
  },
  {
   "cell_type": "markdown",
   "metadata": {},
   "source": [
    "# k-nearest neighbor"
   ]
  },
  {
   "cell_type": "code",
   "execution_count": 104,
   "metadata": {},
   "outputs": [
    {
     "name": "stderr",
     "output_type": "stream",
     "text": [
      "/opt/anaconda3/envs/tensorflow/lib/python3.7/site-packages/sklearn/model_selection/_split.py:296: FutureWarning: Setting a random_state has no effect since shuffle is False. This will raise an error in 0.24. You should leave random_state to its default (None), or set shuffle=True.\n",
      "  FutureWarning\n"
     ]
    },
    {
     "name": "stdout",
     "output_type": "stream",
     "text": [
      "[0.57017544 0.74583333 0.60681818 0.83258929 0.795      0.64488636\n",
      " 0.71875    0.73529412 0.60227273 0.81447964]\n"
     ]
    }
   ],
   "source": [
    "from sklearn.neighbors import KNeighborsClassifier\n",
    "clf = KNeighborsClassifier()\n",
    "cross_val = KFold(n_splits=10, random_state=42)\n",
    "score = cross_val_score(clf, train_data, target, cv=cross_val, scoring='roc_auc')\n",
    "print(score)"
   ]
  },
  {
   "cell_type": "code",
   "execution_count": 105,
   "metadata": {},
   "outputs": [
    {
     "data": {
      "text/plain": [
       "70.66"
      ]
     },
     "execution_count": 105,
     "metadata": {},
     "output_type": "execute_result"
    }
   ],
   "source": [
    "# k-nearest neighbor score\n",
    "round(np.mean(score)*100, 2)"
   ]
  },
  {
   "cell_type": "code",
   "execution_count": 106,
   "metadata": {},
   "outputs": [
    {
     "data": {
      "text/plain": [
       "0.801980198019802"
      ]
     },
     "execution_count": 106,
     "metadata": {},
     "output_type": "execute_result"
    }
   ],
   "source": [
    "clf.fit(train_data, target)\n",
    "clf.score(X_test, y_test)"
   ]
  },
  {
   "cell_type": "code",
   "execution_count": 107,
   "metadata": {},
   "outputs": [
    {
     "data": {
      "text/plain": [
       "array([1, 1, 1, 0, 0, 1, 0, 0, 1, 1, 1, 0, 1, 1, 1, 1, 1, 0, 1, 1, 1, 1,\n",
       "       1, 1, 0, 0, 1, 1, 0, 0, 0, 1, 0, 1, 1, 1, 0, 1, 1, 0, 1, 1, 1, 0,\n",
       "       0, 0, 0, 0, 1, 1, 1, 1, 0, 1, 1, 0, 0, 0, 0, 1, 1, 0, 1, 0, 1, 0,\n",
       "       0, 0, 1, 0, 1, 0, 1, 0, 1, 1, 0, 0, 1, 0, 1, 1, 0, 1, 1, 1, 1, 1,\n",
       "       0, 1, 0, 1, 1, 1, 0, 1, 0, 1, 0, 1, 1, 0, 1, 1, 1, 1, 1, 0, 1, 0,\n",
       "       0, 1, 0, 1, 0, 0, 1, 0, 1, 1, 1, 1, 1, 1, 0, 1, 1, 0, 1, 1, 1, 0,\n",
       "       1, 0, 0, 1, 0, 0, 1, 1, 1, 1, 0, 1, 0, 0, 1, 1, 1, 0, 1, 1, 1, 1,\n",
       "       1, 1, 1, 1, 1, 0, 1, 0, 0, 1, 1, 0, 1, 1, 1, 1, 0, 1, 1, 1, 1, 1,\n",
       "       0, 1, 0, 1, 1, 0, 1, 1, 1, 1, 1, 1, 1, 1, 1, 1, 0, 1, 1, 1, 1, 1,\n",
       "       1, 1, 0, 1, 1, 1, 0, 1, 1, 0, 1, 1, 0, 0, 1, 1, 1, 0, 1, 1, 0, 1,\n",
       "       1, 0, 0, 1, 0, 0, 1, 0, 1, 1, 0, 0, 0, 1, 1, 1, 1, 1, 0, 0, 1, 0,\n",
       "       1, 1, 1, 0, 1, 1, 1, 1, 1, 1, 1, 0, 1, 1, 0, 0, 1, 1, 1, 0, 1, 1,\n",
       "       0, 1, 1, 1, 0, 0, 0, 1, 0, 1, 1, 1, 0, 0, 1, 0, 0, 1, 1, 0, 1, 0,\n",
       "       1, 1, 0, 1, 0, 1, 0, 0, 1, 0, 1, 0, 0, 1, 1, 1, 1])"
      ]
     },
     "execution_count": 107,
     "metadata": {},
     "output_type": "execute_result"
    }
   ],
   "source": [
    "prediction = clf.predict(X_test)\n",
    "prediction"
   ]
  },
  {
   "cell_type": "code",
   "execution_count": 121,
   "metadata": {},
   "outputs": [
    {
     "data": {
      "text/html": [
       "<div>\n",
       "<style scoped>\n",
       "    .dataframe tbody tr th:only-of-type {\n",
       "        vertical-align: middle;\n",
       "    }\n",
       "\n",
       "    .dataframe tbody tr th {\n",
       "        vertical-align: top;\n",
       "    }\n",
       "\n",
       "    .dataframe thead th {\n",
       "        text-align: right;\n",
       "    }\n",
       "</style>\n",
       "<table border=\"1\" class=\"dataframe\">\n",
       "  <thead>\n",
       "    <tr style=\"text-align: right;\">\n",
       "      <th></th>\n",
       "      <th>Gender</th>\n",
       "      <th>Using transportation</th>\n",
       "      <th>Apply for another varsity</th>\n",
       "      <th>KNPwCIfIbDA</th>\n",
       "      <th>Bangshal, Dhaka</th>\n",
       "      <th>Bosundhara, Dhaka</th>\n",
       "      <th>Cantonment, Dhaka</th>\n",
       "      <th>Dakkhinkhan, Dhaka</th>\n",
       "      <th>Dhaka</th>\n",
       "      <th>Dhanmondi 27, Dhaka</th>\n",
       "      <th>...</th>\n",
       "      <th>No option without it</th>\n",
       "      <th>No reason</th>\n",
       "      <th>Reasonable_tiutuon_fee.</th>\n",
       "      <th>Scholarhip</th>\n",
       "      <th>Standard_university</th>\n",
       "      <th>Suggestion</th>\n",
       "      <th>Teaching_quality</th>\n",
       "      <th>Waiver</th>\n",
       "      <th>Well_developed</th>\n",
       "      <th>Well_reputed_University</th>\n",
       "    </tr>\n",
       "  </thead>\n",
       "  <tbody>\n",
       "    <tr>\n",
       "      <th>75</th>\n",
       "      <td>1</td>\n",
       "      <td>1</td>\n",
       "      <td>0</td>\n",
       "      <td>0</td>\n",
       "      <td>0</td>\n",
       "      <td>0</td>\n",
       "      <td>0</td>\n",
       "      <td>0</td>\n",
       "      <td>0</td>\n",
       "      <td>0</td>\n",
       "      <td>...</td>\n",
       "      <td>0</td>\n",
       "      <td>0</td>\n",
       "      <td>0</td>\n",
       "      <td>0</td>\n",
       "      <td>0</td>\n",
       "      <td>0</td>\n",
       "      <td>0</td>\n",
       "      <td>0</td>\n",
       "      <td>0</td>\n",
       "      <td>0</td>\n",
       "    </tr>\n",
       "    <tr>\n",
       "      <th>110</th>\n",
       "      <td>0</td>\n",
       "      <td>0</td>\n",
       "      <td>1</td>\n",
       "      <td>0</td>\n",
       "      <td>0</td>\n",
       "      <td>0</td>\n",
       "      <td>0</td>\n",
       "      <td>0</td>\n",
       "      <td>0</td>\n",
       "      <td>0</td>\n",
       "      <td>...</td>\n",
       "      <td>0</td>\n",
       "      <td>0</td>\n",
       "      <td>0</td>\n",
       "      <td>0</td>\n",
       "      <td>0</td>\n",
       "      <td>0</td>\n",
       "      <td>0</td>\n",
       "      <td>0</td>\n",
       "      <td>1</td>\n",
       "      <td>0</td>\n",
       "    </tr>\n",
       "    <tr>\n",
       "      <th>113</th>\n",
       "      <td>0</td>\n",
       "      <td>0</td>\n",
       "      <td>1</td>\n",
       "      <td>0</td>\n",
       "      <td>0</td>\n",
       "      <td>1</td>\n",
       "      <td>0</td>\n",
       "      <td>0</td>\n",
       "      <td>0</td>\n",
       "      <td>0</td>\n",
       "      <td>...</td>\n",
       "      <td>0</td>\n",
       "      <td>0</td>\n",
       "      <td>0</td>\n",
       "      <td>0</td>\n",
       "      <td>0</td>\n",
       "      <td>0</td>\n",
       "      <td>0</td>\n",
       "      <td>1</td>\n",
       "      <td>0</td>\n",
       "      <td>0</td>\n",
       "    </tr>\n",
       "    <tr>\n",
       "      <th>16</th>\n",
       "      <td>0</td>\n",
       "      <td>1</td>\n",
       "      <td>1</td>\n",
       "      <td>0</td>\n",
       "      <td>0</td>\n",
       "      <td>0</td>\n",
       "      <td>0</td>\n",
       "      <td>0</td>\n",
       "      <td>0</td>\n",
       "      <td>0</td>\n",
       "      <td>...</td>\n",
       "      <td>0</td>\n",
       "      <td>0</td>\n",
       "      <td>0</td>\n",
       "      <td>0</td>\n",
       "      <td>0</td>\n",
       "      <td>0</td>\n",
       "      <td>0</td>\n",
       "      <td>0</td>\n",
       "      <td>0</td>\n",
       "      <td>0</td>\n",
       "    </tr>\n",
       "    <tr>\n",
       "      <th>66</th>\n",
       "      <td>1</td>\n",
       "      <td>0</td>\n",
       "      <td>1</td>\n",
       "      <td>1</td>\n",
       "      <td>0</td>\n",
       "      <td>0</td>\n",
       "      <td>0</td>\n",
       "      <td>0</td>\n",
       "      <td>0</td>\n",
       "      <td>0</td>\n",
       "      <td>...</td>\n",
       "      <td>0</td>\n",
       "      <td>0</td>\n",
       "      <td>0</td>\n",
       "      <td>0</td>\n",
       "      <td>0</td>\n",
       "      <td>0</td>\n",
       "      <td>0</td>\n",
       "      <td>0</td>\n",
       "      <td>0</td>\n",
       "      <td>0</td>\n",
       "    </tr>\n",
       "    <tr>\n",
       "      <th>271</th>\n",
       "      <td>0</td>\n",
       "      <td>1</td>\n",
       "      <td>1</td>\n",
       "      <td>0</td>\n",
       "      <td>0</td>\n",
       "      <td>0</td>\n",
       "      <td>0</td>\n",
       "      <td>0</td>\n",
       "      <td>0</td>\n",
       "      <td>0</td>\n",
       "      <td>...</td>\n",
       "      <td>0</td>\n",
       "      <td>0</td>\n",
       "      <td>0</td>\n",
       "      <td>0</td>\n",
       "      <td>0</td>\n",
       "      <td>0</td>\n",
       "      <td>0</td>\n",
       "      <td>0</td>\n",
       "      <td>0</td>\n",
       "      <td>0</td>\n",
       "    </tr>\n",
       "    <tr>\n",
       "      <th>7</th>\n",
       "      <td>1</td>\n",
       "      <td>0</td>\n",
       "      <td>1</td>\n",
       "      <td>0</td>\n",
       "      <td>0</td>\n",
       "      <td>0</td>\n",
       "      <td>0</td>\n",
       "      <td>0</td>\n",
       "      <td>0</td>\n",
       "      <td>0</td>\n",
       "      <td>...</td>\n",
       "      <td>0</td>\n",
       "      <td>0</td>\n",
       "      <td>0</td>\n",
       "      <td>0</td>\n",
       "      <td>0</td>\n",
       "      <td>0</td>\n",
       "      <td>0</td>\n",
       "      <td>0</td>\n",
       "      <td>0</td>\n",
       "      <td>0</td>\n",
       "    </tr>\n",
       "    <tr>\n",
       "      <th>19</th>\n",
       "      <td>0</td>\n",
       "      <td>0</td>\n",
       "      <td>1</td>\n",
       "      <td>0</td>\n",
       "      <td>0</td>\n",
       "      <td>0</td>\n",
       "      <td>0</td>\n",
       "      <td>0</td>\n",
       "      <td>0</td>\n",
       "      <td>0</td>\n",
       "      <td>...</td>\n",
       "      <td>0</td>\n",
       "      <td>0</td>\n",
       "      <td>0</td>\n",
       "      <td>0</td>\n",
       "      <td>0</td>\n",
       "      <td>0</td>\n",
       "      <td>0</td>\n",
       "      <td>0</td>\n",
       "      <td>0</td>\n",
       "      <td>0</td>\n",
       "    </tr>\n",
       "    <tr>\n",
       "      <th>176</th>\n",
       "      <td>0</td>\n",
       "      <td>1</td>\n",
       "      <td>1</td>\n",
       "      <td>1</td>\n",
       "      <td>0</td>\n",
       "      <td>0</td>\n",
       "      <td>0</td>\n",
       "      <td>0</td>\n",
       "      <td>0</td>\n",
       "      <td>0</td>\n",
       "      <td>...</td>\n",
       "      <td>0</td>\n",
       "      <td>0</td>\n",
       "      <td>0</td>\n",
       "      <td>0</td>\n",
       "      <td>0</td>\n",
       "      <td>0</td>\n",
       "      <td>0</td>\n",
       "      <td>1</td>\n",
       "      <td>0</td>\n",
       "      <td>0</td>\n",
       "    </tr>\n",
       "    <tr>\n",
       "      <th>390</th>\n",
       "      <td>1</td>\n",
       "      <td>1</td>\n",
       "      <td>1</td>\n",
       "      <td>0</td>\n",
       "      <td>0</td>\n",
       "      <td>0</td>\n",
       "      <td>0</td>\n",
       "      <td>0</td>\n",
       "      <td>0</td>\n",
       "      <td>0</td>\n",
       "      <td>...</td>\n",
       "      <td>0</td>\n",
       "      <td>0</td>\n",
       "      <td>0</td>\n",
       "      <td>0</td>\n",
       "      <td>0</td>\n",
       "      <td>0</td>\n",
       "      <td>0</td>\n",
       "      <td>0</td>\n",
       "      <td>0</td>\n",
       "      <td>0</td>\n",
       "    </tr>\n",
       "    <tr>\n",
       "      <th>353</th>\n",
       "      <td>0</td>\n",
       "      <td>0</td>\n",
       "      <td>1</td>\n",
       "      <td>0</td>\n",
       "      <td>0</td>\n",
       "      <td>0</td>\n",
       "      <td>0</td>\n",
       "      <td>0</td>\n",
       "      <td>0</td>\n",
       "      <td>0</td>\n",
       "      <td>...</td>\n",
       "      <td>0</td>\n",
       "      <td>0</td>\n",
       "      <td>0</td>\n",
       "      <td>0</td>\n",
       "      <td>0</td>\n",
       "      <td>0</td>\n",
       "      <td>0</td>\n",
       "      <td>0</td>\n",
       "      <td>0</td>\n",
       "      <td>0</td>\n",
       "    </tr>\n",
       "    <tr>\n",
       "      <th>299</th>\n",
       "      <td>0</td>\n",
       "      <td>1</td>\n",
       "      <td>1</td>\n",
       "      <td>0</td>\n",
       "      <td>0</td>\n",
       "      <td>0</td>\n",
       "      <td>0</td>\n",
       "      <td>0</td>\n",
       "      <td>0</td>\n",
       "      <td>0</td>\n",
       "      <td>...</td>\n",
       "      <td>0</td>\n",
       "      <td>0</td>\n",
       "      <td>0</td>\n",
       "      <td>0</td>\n",
       "      <td>0</td>\n",
       "      <td>0</td>\n",
       "      <td>0</td>\n",
       "      <td>0</td>\n",
       "      <td>0</td>\n",
       "      <td>0</td>\n",
       "    </tr>\n",
       "    <tr>\n",
       "      <th>298</th>\n",
       "      <td>0</td>\n",
       "      <td>0</td>\n",
       "      <td>1</td>\n",
       "      <td>0</td>\n",
       "      <td>0</td>\n",
       "      <td>0</td>\n",
       "      <td>0</td>\n",
       "      <td>0</td>\n",
       "      <td>0</td>\n",
       "      <td>0</td>\n",
       "      <td>...</td>\n",
       "      <td>0</td>\n",
       "      <td>0</td>\n",
       "      <td>0</td>\n",
       "      <td>0</td>\n",
       "      <td>0</td>\n",
       "      <td>0</td>\n",
       "      <td>0</td>\n",
       "      <td>0</td>\n",
       "      <td>1</td>\n",
       "      <td>0</td>\n",
       "    </tr>\n",
       "    <tr>\n",
       "      <th>296</th>\n",
       "      <td>1</td>\n",
       "      <td>1</td>\n",
       "      <td>0</td>\n",
       "      <td>0</td>\n",
       "      <td>0</td>\n",
       "      <td>0</td>\n",
       "      <td>0</td>\n",
       "      <td>0</td>\n",
       "      <td>0</td>\n",
       "      <td>0</td>\n",
       "      <td>...</td>\n",
       "      <td>0</td>\n",
       "      <td>0</td>\n",
       "      <td>0</td>\n",
       "      <td>0</td>\n",
       "      <td>0</td>\n",
       "      <td>0</td>\n",
       "      <td>0</td>\n",
       "      <td>0</td>\n",
       "      <td>0</td>\n",
       "      <td>0</td>\n",
       "    </tr>\n",
       "    <tr>\n",
       "      <th>391</th>\n",
       "      <td>1</td>\n",
       "      <td>1</td>\n",
       "      <td>1</td>\n",
       "      <td>1</td>\n",
       "      <td>0</td>\n",
       "      <td>0</td>\n",
       "      <td>0</td>\n",
       "      <td>0</td>\n",
       "      <td>0</td>\n",
       "      <td>0</td>\n",
       "      <td>...</td>\n",
       "      <td>0</td>\n",
       "      <td>0</td>\n",
       "      <td>0</td>\n",
       "      <td>0</td>\n",
       "      <td>0</td>\n",
       "      <td>0</td>\n",
       "      <td>0</td>\n",
       "      <td>1</td>\n",
       "      <td>0</td>\n",
       "      <td>0</td>\n",
       "    </tr>\n",
       "    <tr>\n",
       "      <th>301</th>\n",
       "      <td>0</td>\n",
       "      <td>0</td>\n",
       "      <td>1</td>\n",
       "      <td>1</td>\n",
       "      <td>0</td>\n",
       "      <td>0</td>\n",
       "      <td>0</td>\n",
       "      <td>0</td>\n",
       "      <td>0</td>\n",
       "      <td>0</td>\n",
       "      <td>...</td>\n",
       "      <td>0</td>\n",
       "      <td>0</td>\n",
       "      <td>0</td>\n",
       "      <td>0</td>\n",
       "      <td>0</td>\n",
       "      <td>1</td>\n",
       "      <td>0</td>\n",
       "      <td>0</td>\n",
       "      <td>0</td>\n",
       "      <td>0</td>\n",
       "    </tr>\n",
       "    <tr>\n",
       "      <th>60</th>\n",
       "      <td>0</td>\n",
       "      <td>0</td>\n",
       "      <td>0</td>\n",
       "      <td>0</td>\n",
       "      <td>0</td>\n",
       "      <td>0</td>\n",
       "      <td>0</td>\n",
       "      <td>0</td>\n",
       "      <td>0</td>\n",
       "      <td>0</td>\n",
       "      <td>...</td>\n",
       "      <td>0</td>\n",
       "      <td>0</td>\n",
       "      <td>0</td>\n",
       "      <td>0</td>\n",
       "      <td>0</td>\n",
       "      <td>0</td>\n",
       "      <td>0</td>\n",
       "      <td>0</td>\n",
       "      <td>0</td>\n",
       "      <td>0</td>\n",
       "    </tr>\n",
       "    <tr>\n",
       "      <th>79</th>\n",
       "      <td>1</td>\n",
       "      <td>0</td>\n",
       "      <td>1</td>\n",
       "      <td>0</td>\n",
       "      <td>0</td>\n",
       "      <td>0</td>\n",
       "      <td>0</td>\n",
       "      <td>0</td>\n",
       "      <td>0</td>\n",
       "      <td>0</td>\n",
       "      <td>...</td>\n",
       "      <td>0</td>\n",
       "      <td>0</td>\n",
       "      <td>0</td>\n",
       "      <td>0</td>\n",
       "      <td>0</td>\n",
       "      <td>0</td>\n",
       "      <td>0</td>\n",
       "      <td>0</td>\n",
       "      <td>0</td>\n",
       "      <td>0</td>\n",
       "    </tr>\n",
       "    <tr>\n",
       "      <th>304</th>\n",
       "      <td>0</td>\n",
       "      <td>1</td>\n",
       "      <td>1</td>\n",
       "      <td>0</td>\n",
       "      <td>0</td>\n",
       "      <td>0</td>\n",
       "      <td>0</td>\n",
       "      <td>0</td>\n",
       "      <td>0</td>\n",
       "      <td>0</td>\n",
       "      <td>...</td>\n",
       "      <td>0</td>\n",
       "      <td>0</td>\n",
       "      <td>0</td>\n",
       "      <td>0</td>\n",
       "      <td>0</td>\n",
       "      <td>0</td>\n",
       "      <td>0</td>\n",
       "      <td>1</td>\n",
       "      <td>0</td>\n",
       "      <td>0</td>\n",
       "    </tr>\n",
       "    <tr>\n",
       "      <th>287</th>\n",
       "      <td>0</td>\n",
       "      <td>1</td>\n",
       "      <td>1</td>\n",
       "      <td>1</td>\n",
       "      <td>0</td>\n",
       "      <td>0</td>\n",
       "      <td>0</td>\n",
       "      <td>0</td>\n",
       "      <td>0</td>\n",
       "      <td>0</td>\n",
       "      <td>...</td>\n",
       "      <td>0</td>\n",
       "      <td>0</td>\n",
       "      <td>0</td>\n",
       "      <td>0</td>\n",
       "      <td>0</td>\n",
       "      <td>0</td>\n",
       "      <td>0</td>\n",
       "      <td>1</td>\n",
       "      <td>0</td>\n",
       "      <td>0</td>\n",
       "    </tr>\n",
       "  </tbody>\n",
       "</table>\n",
       "<p>20 rows × 91 columns</p>\n",
       "</div>"
      ],
      "text/plain": [
       "     Gender  Using transportation  Apply for another varsity  KNPwCIfIbDA  \\\n",
       "75        1                     1                          0            0   \n",
       "110       0                     0                          1            0   \n",
       "113       0                     0                          1            0   \n",
       "16        0                     1                          1            0   \n",
       "66        1                     0                          1            1   \n",
       "271       0                     1                          1            0   \n",
       "7         1                     0                          1            0   \n",
       "19        0                     0                          1            0   \n",
       "176       0                     1                          1            1   \n",
       "390       1                     1                          1            0   \n",
       "353       0                     0                          1            0   \n",
       "299       0                     1                          1            0   \n",
       "298       0                     0                          1            0   \n",
       "296       1                     1                          0            0   \n",
       "391       1                     1                          1            1   \n",
       "301       0                     0                          1            1   \n",
       "60        0                     0                          0            0   \n",
       "79        1                     0                          1            0   \n",
       "304       0                     1                          1            0   \n",
       "287       0                     1                          1            1   \n",
       "\n",
       "     Bangshal, Dhaka  Bosundhara, Dhaka  Cantonment, Dhaka  \\\n",
       "75                 0                  0                  0   \n",
       "110                0                  0                  0   \n",
       "113                0                  1                  0   \n",
       "16                 0                  0                  0   \n",
       "66                 0                  0                  0   \n",
       "271                0                  0                  0   \n",
       "7                  0                  0                  0   \n",
       "19                 0                  0                  0   \n",
       "176                0                  0                  0   \n",
       "390                0                  0                  0   \n",
       "353                0                  0                  0   \n",
       "299                0                  0                  0   \n",
       "298                0                  0                  0   \n",
       "296                0                  0                  0   \n",
       "391                0                  0                  0   \n",
       "301                0                  0                  0   \n",
       "60                 0                  0                  0   \n",
       "79                 0                  0                  0   \n",
       "304                0                  0                  0   \n",
       "287                0                  0                  0   \n",
       "\n",
       "     Dakkhinkhan, Dhaka  Dhaka  Dhanmondi 27, Dhaka  ...  \\\n",
       "75                    0      0                    0  ...   \n",
       "110                   0      0                    0  ...   \n",
       "113                   0      0                    0  ...   \n",
       "16                    0      0                    0  ...   \n",
       "66                    0      0                    0  ...   \n",
       "271                   0      0                    0  ...   \n",
       "7                     0      0                    0  ...   \n",
       "19                    0      0                    0  ...   \n",
       "176                   0      0                    0  ...   \n",
       "390                   0      0                    0  ...   \n",
       "353                   0      0                    0  ...   \n",
       "299                   0      0                    0  ...   \n",
       "298                   0      0                    0  ...   \n",
       "296                   0      0                    0  ...   \n",
       "391                   0      0                    0  ...   \n",
       "301                   0      0                    0  ...   \n",
       "60                    0      0                    0  ...   \n",
       "79                    0      0                    0  ...   \n",
       "304                   0      0                    0  ...   \n",
       "287                   0      0                    0  ...   \n",
       "\n",
       "     No option without it  No reason  Reasonable_tiutuon_fee.  Scholarhip  \\\n",
       "75                      0          0                        0           0   \n",
       "110                     0          0                        0           0   \n",
       "113                     0          0                        0           0   \n",
       "16                      0          0                        0           0   \n",
       "66                      0          0                        0           0   \n",
       "271                     0          0                        0           0   \n",
       "7                       0          0                        0           0   \n",
       "19                      0          0                        0           0   \n",
       "176                     0          0                        0           0   \n",
       "390                     0          0                        0           0   \n",
       "353                     0          0                        0           0   \n",
       "299                     0          0                        0           0   \n",
       "298                     0          0                        0           0   \n",
       "296                     0          0                        0           0   \n",
       "391                     0          0                        0           0   \n",
       "301                     0          0                        0           0   \n",
       "60                      0          0                        0           0   \n",
       "79                      0          0                        0           0   \n",
       "304                     0          0                        0           0   \n",
       "287                     0          0                        0           0   \n",
       "\n",
       "     Standard_university  Suggestion  Teaching_quality  Waiver  \\\n",
       "75                     0           0                 0       0   \n",
       "110                    0           0                 0       0   \n",
       "113                    0           0                 0       1   \n",
       "16                     0           0                 0       0   \n",
       "66                     0           0                 0       0   \n",
       "271                    0           0                 0       0   \n",
       "7                      0           0                 0       0   \n",
       "19                     0           0                 0       0   \n",
       "176                    0           0                 0       1   \n",
       "390                    0           0                 0       0   \n",
       "353                    0           0                 0       0   \n",
       "299                    0           0                 0       0   \n",
       "298                    0           0                 0       0   \n",
       "296                    0           0                 0       0   \n",
       "391                    0           0                 0       1   \n",
       "301                    0           1                 0       0   \n",
       "60                     0           0                 0       0   \n",
       "79                     0           0                 0       0   \n",
       "304                    0           0                 0       1   \n",
       "287                    0           0                 0       1   \n",
       "\n",
       "     Well_developed  Well_reputed_University  \n",
       "75                0                        0  \n",
       "110               1                        0  \n",
       "113               0                        0  \n",
       "16                0                        0  \n",
       "66                0                        0  \n",
       "271               0                        0  \n",
       "7                 0                        0  \n",
       "19                0                        0  \n",
       "176               0                        0  \n",
       "390               0                        0  \n",
       "353               0                        0  \n",
       "299               0                        0  \n",
       "298               1                        0  \n",
       "296               0                        0  \n",
       "391               0                        0  \n",
       "301               0                        0  \n",
       "60                0                        0  \n",
       "79                0                        0  \n",
       "304               0                        0  \n",
       "287               0                        0  \n",
       "\n",
       "[20 rows x 91 columns]"
      ]
     },
     "execution_count": 121,
     "metadata": {},
     "output_type": "execute_result"
    }
   ],
   "source": [
    "X_test.head(20)"
   ]
  },
  {
   "cell_type": "markdown",
   "metadata": {},
   "source": [
    "# xgboost"
   ]
  },
  {
   "cell_type": "code",
   "execution_count": 108,
   "metadata": {},
   "outputs": [
    {
     "name": "stderr",
     "output_type": "stream",
     "text": [
      "/opt/anaconda3/envs/tensorflow/lib/python3.7/site-packages/sklearn/model_selection/_split.py:296: FutureWarning: Setting a random_state has no effect since shuffle is False. This will raise an error in 0.24. You should leave random_state to its default (None), or set shuffle=True.\n",
      "  FutureWarning\n"
     ]
    },
    {
     "name": "stdout",
     "output_type": "stream",
     "text": [
      "[22:40:01] WARNING: src/objective/regression_obj.cu:152: reg:linear is now deprecated in favor of reg:squarederror.\n",
      "[22:40:01] WARNING: src/objective/regression_obj.cu:152: reg:linear is now deprecated in favor of reg:squarederror.\n",
      "[22:40:01] WARNING: src/objective/regression_obj.cu:152: reg:linear is now deprecated in favor of reg:squarederror.\n",
      "[22:40:02] WARNING: src/objective/regression_obj.cu:152: reg:linear is now deprecated in favor of reg:squarederror.\n",
      "[22:40:02] WARNING: src/objective/regression_obj.cu:152: reg:linear is now deprecated in favor of reg:squarederror.\n",
      "[22:40:02] WARNING: src/objective/regression_obj.cu:152: reg:linear is now deprecated in favor of reg:squarederror.\n",
      "[22:40:02] WARNING: src/objective/regression_obj.cu:152: reg:linear is now deprecated in favor of reg:squarederror.\n",
      "[22:40:03] WARNING: src/objective/regression_obj.cu:152: reg:linear is now deprecated in favor of reg:squarederror.\n",
      "[22:40:03] WARNING: src/objective/regression_obj.cu:152: reg:linear is now deprecated in favor of reg:squarederror.\n",
      "[22:40:03] WARNING: src/objective/regression_obj.cu:152: reg:linear is now deprecated in favor of reg:squarederror.\n",
      "[0.73245614 0.725      0.67272727 0.79464286 0.715      0.69886364\n",
      " 0.47916667 0.6561086  0.57386364 0.73755656]\n"
     ]
    }
   ],
   "source": [
    "import xgboost\n",
    "clf=xgboost.XGBRegressor()\n",
    "cross_val = KFold(n_splits=10, random_state=42)\n",
    "score = cross_val_score(clf, train_data, target, cv=cross_val, scoring='roc_auc')\n",
    "print(score)"
   ]
  },
  {
   "cell_type": "code",
   "execution_count": 109,
   "metadata": {},
   "outputs": [
    {
     "data": {
      "text/plain": [
       "67.85"
      ]
     },
     "execution_count": 109,
     "metadata": {},
     "output_type": "execute_result"
    }
   ],
   "source": [
    "# xgboost score\n",
    "round(np.mean(score)*100, 2)"
   ]
  },
  {
   "cell_type": "code",
   "execution_count": 110,
   "metadata": {},
   "outputs": [
    {
     "name": "stdout",
     "output_type": "stream",
     "text": [
      "[22:40:03] WARNING: src/objective/regression_obj.cu:152: reg:linear is now deprecated in favor of reg:squarederror.\n"
     ]
    },
    {
     "data": {
      "text/plain": [
       "0.42531039240370583"
      ]
     },
     "execution_count": 110,
     "metadata": {},
     "output_type": "execute_result"
    }
   ],
   "source": [
    "clf.fit(train_data, target)\n",
    "clf.score(X_test, y_test)"
   ]
  },
  {
   "cell_type": "code",
   "execution_count": null,
   "metadata": {},
   "outputs": [],
   "source": []
  },
  {
   "cell_type": "code",
   "execution_count": null,
   "metadata": {},
   "outputs": [],
   "source": []
  },
  {
   "cell_type": "code",
   "execution_count": 111,
   "metadata": {},
   "outputs": [],
   "source": [
    "import xgboost\n",
    "classifier=xgboost.XGBRegressor()\n",
    "regressor=xgboost.XGBRegressor()\n"
   ]
  },
  {
   "cell_type": "code",
   "execution_count": 112,
   "metadata": {},
   "outputs": [],
   "source": [
    "booster = ['gbtree','gblinear']\n",
    "base_score = [0.25,0.5,0.75,1]"
   ]
  },
  {
   "cell_type": "code",
   "execution_count": 113,
   "metadata": {},
   "outputs": [],
   "source": [
    "# Hyper Parameter Optimization\n",
    "n_estimators = [100, 500, 900, 1100, 1500]\n",
    "max_depth = [2,3,5,10,15]\n",
    "booster = ['gbtree','gblinear']\n",
    "learning_rate = [0.05,0.1,0.15,0.20]\n",
    "min_child_weight=[1,2,3,4]\n",
    "\n",
    "# Define the grid of hyperparameters to search\n",
    "hyperparameter_grid = {\n",
    "    'n_estimators': n_estimators,\n",
    "    'max_depth': max_depth,\n",
    "    'learning_rate': learning_rate,\n",
    "    'min_child_weight': min_child_weight,\n",
    "    'booster': booster,\n",
    "    'base_score': base_score\n",
    "}\n"
   ]
  },
  {
   "cell_type": "code",
   "execution_count": 114,
   "metadata": {},
   "outputs": [],
   "source": [
    "# random search with 4-fold cross validation\n",
    "from sklearn.model_selection import RandomizedSearchCV\n",
    "random_cv = RandomizedSearchCV(estimator=regressor,\n",
    "            param_distributions=hyperparameter_grid,\n",
    "            cv=5, n_iter=50,\n",
    "            scoring = 'neg_mean_absolute_error',n_jobs = 4,\n",
    "            verbose = 5, \n",
    "            return_train_score = True,\n",
    "            random_state=42)"
   ]
  },
  {
   "cell_type": "code",
   "execution_count": 115,
   "metadata": {},
   "outputs": [
    {
     "name": "stdout",
     "output_type": "stream",
     "text": [
      "Fitting 5 folds for each of 50 candidates, totalling 250 fits\n"
     ]
    },
    {
     "name": "stderr",
     "output_type": "stream",
     "text": [
      "[Parallel(n_jobs=4)]: Using backend LokyBackend with 4 concurrent workers.\n",
      "[Parallel(n_jobs=4)]: Done  10 tasks      | elapsed:   10.2s\n",
      "[Parallel(n_jobs=4)]: Done  64 tasks      | elapsed:  1.2min\n",
      "[Parallel(n_jobs=4)]: Done 154 tasks      | elapsed:  1.8min\n",
      "[Parallel(n_jobs=4)]: Done 250 out of 250 | elapsed:  2.7min finished\n"
     ]
    },
    {
     "name": "stdout",
     "output_type": "stream",
     "text": [
      "[22:42:44] WARNING: src/objective/regression_obj.cu:152: reg:linear is now deprecated in favor of reg:squarederror.\n"
     ]
    },
    {
     "data": {
      "text/plain": [
       "RandomizedSearchCV(cv=5, error_score=nan,\n",
       "                   estimator=XGBRegressor(base_score=0.5, booster='gbtree',\n",
       "                                          colsample_bylevel=1,\n",
       "                                          colsample_bynode=1,\n",
       "                                          colsample_bytree=1, gamma=0,\n",
       "                                          importance_type='gain',\n",
       "                                          learning_rate=0.1, max_delta_step=0,\n",
       "                                          max_depth=3, min_child_weight=1,\n",
       "                                          missing=None, n_estimators=100,\n",
       "                                          n_jobs=1, nthread=None,\n",
       "                                          objective='reg:linear',\n",
       "                                          random_state=0, reg_alpha=...\n",
       "                   iid='deprecated', n_iter=50, n_jobs=4,\n",
       "                   param_distributions={'base_score': [0.25, 0.5, 0.75, 1],\n",
       "                                        'booster': ['gbtree', 'gblinear'],\n",
       "                                        'learning_rate': [0.05, 0.1, 0.15, 0.2],\n",
       "                                        'max_depth': [2, 3, 5, 10, 15],\n",
       "                                        'min_child_weight': [1, 2, 3, 4],\n",
       "                                        'n_estimators': [100, 500, 900, 1100,\n",
       "                                                         1500]},\n",
       "                   pre_dispatch='2*n_jobs', random_state=42, refit=True,\n",
       "                   return_train_score=True, scoring='neg_mean_absolute_error',\n",
       "                   verbose=5)"
      ]
     },
     "execution_count": 115,
     "metadata": {},
     "output_type": "execute_result"
    }
   ],
   "source": [
    "random_cv.fit(train_data,target)"
   ]
  },
  {
   "cell_type": "code",
   "execution_count": 116,
   "metadata": {},
   "outputs": [
    {
     "data": {
      "text/plain": [
       "XGBRegressor(base_score=0.25, booster='gbtree', colsample_bylevel=1,\n",
       "             colsample_bynode=1, colsample_bytree=1, gamma=0,\n",
       "             importance_type='gain', learning_rate=0.15, max_delta_step=0,\n",
       "             max_depth=15, min_child_weight=2, missing=None, n_estimators=1500,\n",
       "             n_jobs=1, nthread=None, objective='reg:linear', random_state=0,\n",
       "             reg_alpha=0, reg_lambda=1, scale_pos_weight=1, seed=None,\n",
       "             silent=None, subsample=1, verbosity=1)"
      ]
     },
     "execution_count": 116,
     "metadata": {},
     "output_type": "execute_result"
    }
   ],
   "source": [
    "random_cv.best_estimator_"
   ]
  },
  {
   "cell_type": "code",
   "execution_count": 117,
   "metadata": {},
   "outputs": [],
   "source": [
    "regressor=xgboost.XGBRegressor(base_score=0.25, booster='gbtree', colsample_bylevel=1,\n",
    "       colsample_bytree=1, gamma=0, learning_rate=0.1, max_delta_step=0,\n",
    "       max_depth=2, min_child_weight=1, missing=None, n_estimators=900,\n",
    "       n_jobs=1, nthread=None, objective='reg:linear', random_state=0,\n",
    "       reg_alpha=0, reg_lambda=1, scale_pos_weight=1, seed=None,\n",
    "       silent=True, subsample=1)"
   ]
  },
  {
   "cell_type": "code",
   "execution_count": 118,
   "metadata": {},
   "outputs": [
    {
     "data": {
      "text/plain": [
       "XGBRegressor(base_score=0.25, booster='gbtree', colsample_bylevel=1,\n",
       "             colsample_bynode=1, colsample_bytree=1, gamma=0,\n",
       "             importance_type='gain', learning_rate=0.1, max_delta_step=0,\n",
       "             max_depth=2, min_child_weight=1, missing=None, n_estimators=900,\n",
       "             n_jobs=1, nthread=None, objective='reg:linear', random_state=0,\n",
       "             reg_alpha=0, reg_lambda=1, scale_pos_weight=1, seed=None,\n",
       "             silent=True, subsample=1, verbosity=1)"
      ]
     },
     "execution_count": 118,
     "metadata": {},
     "output_type": "execute_result"
    }
   ],
   "source": [
    "regressor.fit(train_data,target)"
   ]
  },
  {
   "cell_type": "code",
   "execution_count": 119,
   "metadata": {},
   "outputs": [
    {
     "data": {
      "text/plain": [
       "0.5398868973528232"
      ]
     },
     "execution_count": 119,
     "metadata": {},
     "output_type": "execute_result"
    }
   ],
   "source": [
    "regressor.score(X_test, y_test)"
   ]
  },
  {
   "cell_type": "code",
   "execution_count": null,
   "metadata": {},
   "outputs": [],
   "source": []
  },
  {
   "cell_type": "code",
   "execution_count": null,
   "metadata": {},
   "outputs": [],
   "source": []
  },
  {
   "cell_type": "code",
   "execution_count": null,
   "metadata": {},
   "outputs": [],
   "source": []
  },
  {
   "cell_type": "code",
   "execution_count": null,
   "metadata": {},
   "outputs": [],
   "source": []
  },
  {
   "cell_type": "code",
   "execution_count": null,
   "metadata": {},
   "outputs": [],
   "source": []
  },
  {
   "cell_type": "code",
   "execution_count": null,
   "metadata": {},
   "outputs": [],
   "source": []
  },
  {
   "cell_type": "code",
   "execution_count": null,
   "metadata": {},
   "outputs": [],
   "source": []
  }
 ],
 "metadata": {
  "kernelspec": {
   "display_name": "Python 3.7 (tensorflow)",
   "language": "python",
   "name": "tensorflow"
  },
  "language_info": {
   "codemirror_mode": {
    "name": "ipython",
    "version": 3
   },
   "file_extension": ".py",
   "mimetype": "text/x-python",
   "name": "python",
   "nbconvert_exporter": "python",
   "pygments_lexer": "ipython3",
   "version": "3.7.6"
  }
 },
 "nbformat": 4,
 "nbformat_minor": 2
}
